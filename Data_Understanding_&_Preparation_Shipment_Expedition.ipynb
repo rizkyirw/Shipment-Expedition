{
  "nbformat": 4,
  "nbformat_minor": 0,
  "metadata": {
    "colab": {
      "provenance": [],
      "collapsed_sections": [],
      "include_colab_link": true
    },
    "kernelspec": {
      "name": "python3",
      "display_name": "Python 3"
    },
    "language_info": {
      "name": "python"
    }
  },
  "cells": [
    {
      "cell_type": "markdown",
      "metadata": {
        "id": "view-in-github",
        "colab_type": "text"
      },
      "source": [
        "<a href=\"https://colab.research.google.com/github/rizkyirw/Shipment-Expedition/blob/main/Data_Understanding_%26_Preparation_Shipment_Expedition.ipynb\" target=\"_parent\"><img src=\"https://colab.research.google.com/assets/colab-badge.svg\" alt=\"Open In Colab\"/></a>"
      ]
    },
    {
      "cell_type": "markdown",
      "source": [
        "Kriteria:\n",
        "1. Business Understanding\n",
        "Minimum:\n",
        "Mampu menentukan objective analisis\n",
        "\n",
        "Maximum:\n",
        "Mampu juga menjelaskan jenis bisnis apa yang sedang berlangsung dari dataset tsb dan jelaskan mengapa dapat dikatakan jenis bisnis tsb.\n",
        "\n",
        "2. Data Understanding\n",
        "Minimum:\n",
        "Mampu melakukan data audit terhadap data yang kotor\n",
        "\n",
        "Maximum:\n",
        "Mampu juga melakukan initial EDA\n",
        "\n",
        "3. Data Preparation\n",
        "Minimum:\n",
        "Mampu melakukan treatment terhadap data yang kotor\n",
        "\n",
        "Maximum:\n",
        "Mampu juga menjelaskan pertimbangan apa yang digunakan ketika memilih suatu metode untuk treatment data kotor tsb.\n",
        "Misal, teman2 lebih memilih untuk melakukan dropping missing value instead of filling missing value. Jelaskan kenapa.\n",
        "\n",
        "4. Modeling/Deep EDA\n",
        "Minimum:\n",
        "Mampu melakukan analisis melalui visualisasi data yang tepat.\n",
        "\n",
        "Maximum:\n",
        "Mampu juga membangun analisis yang terstruktur dan sistematis sehingga terbangun suatu story dan rekomendasi dari analisis yang dilakukan."
      ],
      "metadata": {
        "id": "6RSCQ1aEeKZJ"
      }
    },
    {
      "cell_type": "code",
      "execution_count": null,
      "metadata": {
        "id": "OIq5hSSaqu4A",
        "colab": {
          "base_uri": "https://localhost:8080/"
        },
        "outputId": "d0ca4c83-f3b3-4ff8-b24b-7479cec424e7"
      },
      "outputs": [
        {
          "output_type": "stream",
          "name": "stdout",
          "text": [
            "Mounted at /content/drive\n"
          ]
        }
      ],
      "source": [
        "from google.colab import drive\n",
        "drive.mount('/content/drive')"
      ]
    },
    {
      "cell_type": "markdown",
      "source": [],
      "metadata": {
        "id": "366emXQweNif"
      }
    },
    {
      "cell_type": "code",
      "source": [
        "import pandas as pd\n",
        "import numpy as np\n",
        "import matplotlib.pyplot as plt\n",
        "import seaborn as sns"
      ],
      "metadata": {
        "id": "0jHoKjhXeSHZ"
      },
      "execution_count": null,
      "outputs": []
    },
    {
      "cell_type": "code",
      "source": [
        "df = pd.read_csv(\"/content/Train - Train (1).csv\")"
      ],
      "metadata": {
        "id": "HRi440wQeUMu"
      },
      "execution_count": null,
      "outputs": []
    },
    {
      "cell_type": "code",
      "source": [
        "df = pd.read_csv(\"/content/drive/MyDrive/Train.csv\")"
      ],
      "metadata": {
        "id": "v5SfxKW4m5hm"
      },
      "execution_count": null,
      "outputs": []
    },
    {
      "cell_type": "code",
      "source": [
        "df .head()"
      ],
      "metadata": {
        "id": "PGxLHy89ftJ_",
        "colab": {
          "base_uri": "https://localhost:8080/",
          "height": 270
        },
        "outputId": "136ffb43-45cc-4f59-f45e-256e3a8e5206"
      },
      "execution_count": null,
      "outputs": [
        {
          "output_type": "execute_result",
          "data": {
            "text/plain": [
              "   ID Warehouse_block Mode_of_Shipment  Customer_care_calls  Customer_rating  \\\n",
              "0   1               D           Flight                  4.0                2   \n",
              "1   2               F           Flight                  4.0                5   \n",
              "2   3               A           Flight                  2.0                2   \n",
              "3   4               B           Flight                  3.0                3   \n",
              "4   5               C           Flight                  2.0                2   \n",
              "\n",
              "   Cost_of_the_Product  Prior_purchases Product_importance Gender  \\\n",
              "0                  177                3                low      F   \n",
              "1                  216                2                low      M   \n",
              "2                  183                4                low      M   \n",
              "3                  176                4             medium      M   \n",
              "4                  184                3             medium      F   \n",
              "\n",
              "   Discount_offered  Weight_in_gms  Reached.on.Time_Y.N  \n",
              "0              44.0           1233                    1  \n",
              "1              59.0           3088                    1  \n",
              "2              48.0           3374                    1  \n",
              "3              10.0           1177                    1  \n",
              "4              46.0           2484                    1  "
            ],
            "text/html": [
              "\n",
              "  <div id=\"df-6ecf6455-6a31-473a-938e-596addbbff80\">\n",
              "    <div class=\"colab-df-container\">\n",
              "      <div>\n",
              "<style scoped>\n",
              "    .dataframe tbody tr th:only-of-type {\n",
              "        vertical-align: middle;\n",
              "    }\n",
              "\n",
              "    .dataframe tbody tr th {\n",
              "        vertical-align: top;\n",
              "    }\n",
              "\n",
              "    .dataframe thead th {\n",
              "        text-align: right;\n",
              "    }\n",
              "</style>\n",
              "<table border=\"1\" class=\"dataframe\">\n",
              "  <thead>\n",
              "    <tr style=\"text-align: right;\">\n",
              "      <th></th>\n",
              "      <th>ID</th>\n",
              "      <th>Warehouse_block</th>\n",
              "      <th>Mode_of_Shipment</th>\n",
              "      <th>Customer_care_calls</th>\n",
              "      <th>Customer_rating</th>\n",
              "      <th>Cost_of_the_Product</th>\n",
              "      <th>Prior_purchases</th>\n",
              "      <th>Product_importance</th>\n",
              "      <th>Gender</th>\n",
              "      <th>Discount_offered</th>\n",
              "      <th>Weight_in_gms</th>\n",
              "      <th>Reached.on.Time_Y.N</th>\n",
              "    </tr>\n",
              "  </thead>\n",
              "  <tbody>\n",
              "    <tr>\n",
              "      <th>0</th>\n",
              "      <td>1</td>\n",
              "      <td>D</td>\n",
              "      <td>Flight</td>\n",
              "      <td>4.0</td>\n",
              "      <td>2</td>\n",
              "      <td>177</td>\n",
              "      <td>3</td>\n",
              "      <td>low</td>\n",
              "      <td>F</td>\n",
              "      <td>44.0</td>\n",
              "      <td>1233</td>\n",
              "      <td>1</td>\n",
              "    </tr>\n",
              "    <tr>\n",
              "      <th>1</th>\n",
              "      <td>2</td>\n",
              "      <td>F</td>\n",
              "      <td>Flight</td>\n",
              "      <td>4.0</td>\n",
              "      <td>5</td>\n",
              "      <td>216</td>\n",
              "      <td>2</td>\n",
              "      <td>low</td>\n",
              "      <td>M</td>\n",
              "      <td>59.0</td>\n",
              "      <td>3088</td>\n",
              "      <td>1</td>\n",
              "    </tr>\n",
              "    <tr>\n",
              "      <th>2</th>\n",
              "      <td>3</td>\n",
              "      <td>A</td>\n",
              "      <td>Flight</td>\n",
              "      <td>2.0</td>\n",
              "      <td>2</td>\n",
              "      <td>183</td>\n",
              "      <td>4</td>\n",
              "      <td>low</td>\n",
              "      <td>M</td>\n",
              "      <td>48.0</td>\n",
              "      <td>3374</td>\n",
              "      <td>1</td>\n",
              "    </tr>\n",
              "    <tr>\n",
              "      <th>3</th>\n",
              "      <td>4</td>\n",
              "      <td>B</td>\n",
              "      <td>Flight</td>\n",
              "      <td>3.0</td>\n",
              "      <td>3</td>\n",
              "      <td>176</td>\n",
              "      <td>4</td>\n",
              "      <td>medium</td>\n",
              "      <td>M</td>\n",
              "      <td>10.0</td>\n",
              "      <td>1177</td>\n",
              "      <td>1</td>\n",
              "    </tr>\n",
              "    <tr>\n",
              "      <th>4</th>\n",
              "      <td>5</td>\n",
              "      <td>C</td>\n",
              "      <td>Flight</td>\n",
              "      <td>2.0</td>\n",
              "      <td>2</td>\n",
              "      <td>184</td>\n",
              "      <td>3</td>\n",
              "      <td>medium</td>\n",
              "      <td>F</td>\n",
              "      <td>46.0</td>\n",
              "      <td>2484</td>\n",
              "      <td>1</td>\n",
              "    </tr>\n",
              "  </tbody>\n",
              "</table>\n",
              "</div>\n",
              "      <button class=\"colab-df-convert\" onclick=\"convertToInteractive('df-6ecf6455-6a31-473a-938e-596addbbff80')\"\n",
              "              title=\"Convert this dataframe to an interactive table.\"\n",
              "              style=\"display:none;\">\n",
              "        \n",
              "  <svg xmlns=\"http://www.w3.org/2000/svg\" height=\"24px\"viewBox=\"0 0 24 24\"\n",
              "       width=\"24px\">\n",
              "    <path d=\"M0 0h24v24H0V0z\" fill=\"none\"/>\n",
              "    <path d=\"M18.56 5.44l.94 2.06.94-2.06 2.06-.94-2.06-.94-.94-2.06-.94 2.06-2.06.94zm-11 1L8.5 8.5l.94-2.06 2.06-.94-2.06-.94L8.5 2.5l-.94 2.06-2.06.94zm10 10l.94 2.06.94-2.06 2.06-.94-2.06-.94-.94-2.06-.94 2.06-2.06.94z\"/><path d=\"M17.41 7.96l-1.37-1.37c-.4-.4-.92-.59-1.43-.59-.52 0-1.04.2-1.43.59L10.3 9.45l-7.72 7.72c-.78.78-.78 2.05 0 2.83L4 21.41c.39.39.9.59 1.41.59.51 0 1.02-.2 1.41-.59l7.78-7.78 2.81-2.81c.8-.78.8-2.07 0-2.86zM5.41 20L4 18.59l7.72-7.72 1.47 1.35L5.41 20z\"/>\n",
              "  </svg>\n",
              "      </button>\n",
              "      \n",
              "  <style>\n",
              "    .colab-df-container {\n",
              "      display:flex;\n",
              "      flex-wrap:wrap;\n",
              "      gap: 12px;\n",
              "    }\n",
              "\n",
              "    .colab-df-convert {\n",
              "      background-color: #E8F0FE;\n",
              "      border: none;\n",
              "      border-radius: 50%;\n",
              "      cursor: pointer;\n",
              "      display: none;\n",
              "      fill: #1967D2;\n",
              "      height: 32px;\n",
              "      padding: 0 0 0 0;\n",
              "      width: 32px;\n",
              "    }\n",
              "\n",
              "    .colab-df-convert:hover {\n",
              "      background-color: #E2EBFA;\n",
              "      box-shadow: 0px 1px 2px rgba(60, 64, 67, 0.3), 0px 1px 3px 1px rgba(60, 64, 67, 0.15);\n",
              "      fill: #174EA6;\n",
              "    }\n",
              "\n",
              "    [theme=dark] .colab-df-convert {\n",
              "      background-color: #3B4455;\n",
              "      fill: #D2E3FC;\n",
              "    }\n",
              "\n",
              "    [theme=dark] .colab-df-convert:hover {\n",
              "      background-color: #434B5C;\n",
              "      box-shadow: 0px 1px 3px 1px rgba(0, 0, 0, 0.15);\n",
              "      filter: drop-shadow(0px 1px 2px rgba(0, 0, 0, 0.3));\n",
              "      fill: #FFFFFF;\n",
              "    }\n",
              "  </style>\n",
              "\n",
              "      <script>\n",
              "        const buttonEl =\n",
              "          document.querySelector('#df-6ecf6455-6a31-473a-938e-596addbbff80 button.colab-df-convert');\n",
              "        buttonEl.style.display =\n",
              "          google.colab.kernel.accessAllowed ? 'block' : 'none';\n",
              "\n",
              "        async function convertToInteractive(key) {\n",
              "          const element = document.querySelector('#df-6ecf6455-6a31-473a-938e-596addbbff80');\n",
              "          const dataTable =\n",
              "            await google.colab.kernel.invokeFunction('convertToInteractive',\n",
              "                                                     [key], {});\n",
              "          if (!dataTable) return;\n",
              "\n",
              "          const docLinkHtml = 'Like what you see? Visit the ' +\n",
              "            '<a target=\"_blank\" href=https://colab.research.google.com/notebooks/data_table.ipynb>data table notebook</a>'\n",
              "            + ' to learn more about interactive tables.';\n",
              "          element.innerHTML = '';\n",
              "          dataTable['output_type'] = 'display_data';\n",
              "          await google.colab.output.renderOutput(dataTable, element);\n",
              "          const docLink = document.createElement('div');\n",
              "          docLink.innerHTML = docLinkHtml;\n",
              "          element.appendChild(docLink);\n",
              "        }\n",
              "      </script>\n",
              "    </div>\n",
              "  </div>\n",
              "  "
            ]
          },
          "metadata": {},
          "execution_count": 5
        }
      ]
    },
    {
      "cell_type": "markdown",
      "source": [
        "### Data Understanding"
      ],
      "metadata": {
        "id": "Pib4oAaFQh0y"
      }
    },
    {
      "cell_type": "markdown",
      "source": [
        "### Checking data row and column"
      ],
      "metadata": {
        "id": "fodQQ7TZRwZn"
      }
    },
    {
      "cell_type": "code",
      "source": [
        "df.shape"
      ],
      "metadata": {
        "id": "Xkwk984AQkr7",
        "outputId": "e776917c-7720-49af-d037-503a023ae6ac",
        "colab": {
          "base_uri": "https://localhost:8080/"
        }
      },
      "execution_count": null,
      "outputs": [
        {
          "output_type": "execute_result",
          "data": {
            "text/plain": [
              "(11005, 12)"
            ]
          },
          "metadata": {},
          "execution_count": 7
        }
      ]
    },
    {
      "cell_type": "markdown",
      "source": [
        "*   Dari dataset Train.csv terdapat 11005 baris dan 12 kolom"
      ],
      "metadata": {
        "id": "oXHYliMCR-Tq"
      }
    },
    {
      "cell_type": "markdown",
      "source": [
        "### Checking column name"
      ],
      "metadata": {
        "id": "8ssNQmkyZH2R"
      }
    },
    {
      "cell_type": "code",
      "source": [
        "df.columns"
      ],
      "metadata": {
        "id": "L5xPdmStZIHf",
        "colab": {
          "base_uri": "https://localhost:8080/"
        },
        "outputId": "7bda78b6-867a-4cfd-b485-c690e4d3b906"
      },
      "execution_count": null,
      "outputs": [
        {
          "output_type": "execute_result",
          "data": {
            "text/plain": [
              "Index(['ID', 'Warehouse_block', 'Mode_of_Shipment', 'Customer_care_calls',\n",
              "       'Customer_rating', 'Cost_of_the_Product', 'Prior_purchases',\n",
              "       'Product_importance', 'Gender', 'Discount_offered', 'Weight_in_gms',\n",
              "       'Reached.on.Time_Y.N'],\n",
              "      dtype='object')"
            ]
          },
          "metadata": {},
          "execution_count": 4
        }
      ]
    },
    {
      "cell_type": "markdown",
      "source": [
        "*   Dari dataset Train.csv terdapat 12 kolom yaitu ID, Warehouse_block, Mode_of_Shipment, Customer_care_calls, Customer_rating, Cost_of_the_Product, Prior_purchases Product_importance, Gender', 'Discount_offered, Weight_in_gms, Reached.on.Time_Y.N"
      ],
      "metadata": {
        "id": "OoTB7clJZXu4"
      }
    },
    {
      "cell_type": "markdown",
      "source": [
        "### Checking data types"
      ],
      "metadata": {
        "id": "IW2JxCaAXoda"
      }
    },
    {
      "cell_type": "code",
      "source": [
        "df.dtypes"
      ],
      "metadata": {
        "id": "lTya_M3eXoom",
        "colab": {
          "base_uri": "https://localhost:8080/"
        },
        "outputId": "dc1ee4f8-4bda-4311-98c5-fe6449ec71e6"
      },
      "execution_count": null,
      "outputs": [
        {
          "output_type": "execute_result",
          "data": {
            "text/plain": [
              "ID                       int64\n",
              "Warehouse_block         object\n",
              "Mode_of_Shipment        object\n",
              "Customer_care_calls    float64\n",
              "Customer_rating          int64\n",
              "Cost_of_the_Product      int64\n",
              "Prior_purchases          int64\n",
              "Product_importance      object\n",
              "Gender                  object\n",
              "Discount_offered       float64\n",
              "Weight_in_gms            int64\n",
              "Reached.on.Time_Y.N      int64\n",
              "dtype: object"
            ]
          },
          "metadata": {},
          "execution_count": 8
        }
      ]
    },
    {
      "cell_type": "markdown",
      "source": [
        "*   Terdapat dua jenis data types numeric yaitu integer dan float pada 8 kolom.\n",
        "*   Terdapat data types string pada empat kolom.\n",
        "\n"
      ],
      "metadata": {
        "id": "lJQtV-zwaSJD"
      }
    },
    {
      "cell_type": "markdown",
      "source": [
        "### Review unique characters"
      ],
      "metadata": {
        "id": "0ddAXmPmSXW6"
      }
    },
    {
      "cell_type": "code",
      "source": [
        "df.nunique()"
      ],
      "metadata": {
        "id": "5uUM0_bISfJx",
        "colab": {
          "base_uri": "https://localhost:8080/"
        },
        "outputId": "cd364416-e6f0-4343-fb15-3555ae54b631"
      },
      "execution_count": null,
      "outputs": [
        {
          "output_type": "execute_result",
          "data": {
            "text/plain": [
              "ID                     10999\n",
              "Warehouse_block            6\n",
              "Mode_of_Shipment           3\n",
              "Customer_care_calls        6\n",
              "Customer_rating            5\n",
              "Cost_of_the_Product      216\n",
              "Prior_purchases            8\n",
              "Product_importance         3\n",
              "Gender                     4\n",
              "Discount_offered          65\n",
              "Weight_in_gms           4034\n",
              "Reached.on.Time_Y.N        3\n",
              "dtype: int64"
            ]
          },
          "metadata": {},
          "execution_count": 5
        }
      ]
    },
    {
      "cell_type": "markdown",
      "source": [],
      "metadata": {
        "id": "fa1ty12Tdd_9"
      }
    },
    {
      "cell_type": "markdown",
      "source": [
        "### Review null data"
      ],
      "metadata": {
        "id": "hSU7Jjw5VLHv"
      }
    },
    {
      "cell_type": "code",
      "source": [
        "df.isnull().sum()"
      ],
      "metadata": {
        "id": "STXzj0rQVRX0",
        "outputId": "1c81acbf-1a46-462f-ccb7-37fa45a0657c",
        "colab": {
          "base_uri": "https://localhost:8080/"
        }
      },
      "execution_count": null,
      "outputs": [
        {
          "output_type": "execute_result",
          "data": {
            "text/plain": [
              "ID                       0\n",
              "Warehouse_block          0\n",
              "Mode_of_Shipment         0\n",
              "Customer_care_calls     22\n",
              "Customer_rating          0\n",
              "Cost_of_the_Product      0\n",
              "Prior_purchases          0\n",
              "Product_importance       0\n",
              "Gender                   0\n",
              "Discount_offered       100\n",
              "Weight_in_gms            0\n",
              "Reached.on.Time_Y.N      0\n",
              "dtype: int64"
            ]
          },
          "metadata": {},
          "execution_count": 21
        }
      ]
    },
    {
      "cell_type": "markdown",
      "source": [
        "*   Terdapat null data (nilai kosong) pada kolom Customer_care_calls dan Discount_offered, masing-masing sebesar 22 dan 100"
      ],
      "metadata": {
        "id": "802lRAzWVUg3"
      }
    },
    {
      "cell_type": "markdown",
      "source": [
        "### Review not null data"
      ],
      "metadata": {
        "id": "QvtkKER9WaKl"
      }
    },
    {
      "cell_type": "code",
      "source": [
        "df.notnull().sum()"
      ],
      "metadata": {
        "id": "ZjJxUkKJWfo1",
        "colab": {
          "base_uri": "https://localhost:8080/"
        },
        "outputId": "83431e0c-15d2-44aa-c00c-75da12342d78"
      },
      "execution_count": null,
      "outputs": [
        {
          "output_type": "execute_result",
          "data": {
            "text/plain": [
              "ID                     11005\n",
              "Warehouse_block        11005\n",
              "Mode_of_Shipment       11005\n",
              "Customer_care_calls    10983\n",
              "Customer_rating        11005\n",
              "Cost_of_the_Product    11005\n",
              "Prior_purchases        11005\n",
              "Product_importance     11005\n",
              "Gender                 11005\n",
              "Discount_offered       10905\n",
              "Weight_in_gms          11005\n",
              "Reached.on.Time_Y.N    11005\n",
              "dtype: int64"
            ]
          },
          "metadata": {},
          "execution_count": 10
        }
      ]
    },
    {
      "cell_type": "markdown",
      "source": [
        "*   Seperti penjelasan pada null data sebelumnya bahwa terdapat null data pada kolom Customer_care_calls dan Discount_offered. Hal ini terbukti disini bahwa hanya kedua kolom tersebut yang berjumlah kurang dari 11005. \n",
        "\n"
      ],
      "metadata": {
        "id": "MyrOsh4LWihQ"
      }
    },
    {
      "cell_type": "markdown",
      "source": [
        "### Outliers"
      ],
      "metadata": {
        "id": "ZAc5sC2gJigq"
      }
    },
    {
      "cell_type": "code",
      "source": [
        "for col in ['ID', 'Customer_care_calls',\n",
        "       'Customer_rating', 'Cost_of_the_Product', 'Prior_purchases', 'Discount_offered', 'Weight_in_gms',\n",
        "       'Reached.on.Time_Y.N']:\n",
        "    plt.figure(figsize=(6,4))\n",
        "    sns.boxplot(x=df[col], palette='cividis')"
      ],
      "metadata": {
        "colab": {
          "base_uri": "https://localhost:8080/",
          "height": 1000
        },
        "id": "oG71IL7KQAAE",
        "outputId": "0c566628-70f0-4613-dd8c-3b19c4fd8b71"
      },
      "execution_count": null,
      "outputs": [
        {
          "output_type": "display_data",
          "data": {
            "text/plain": [
              "<Figure size 432x288 with 1 Axes>"
            ],
            "image/png": "[encoded data removed]"
          },
          "metadata": {
            "needs_background": "light"
          }
        },
        {
          "output_type": "display_data",
          "data": {
            "text/plain": [
              "<Figure size 432x288 with 1 Axes>"
            ],
            "image/png": "[encoded data removed]"
          },
          "metadata": {
            "needs_background": "light"
          }
        },
        {
          "output_type": "display_data",
          "data": {
            "text/plain": [
              "<Figure size 432x288 with 1 Axes>"
            ],
            "image/png": "[encoded data removed]"
          },
          "metadata": {
            "needs_background": "light"
          }
        },
        {
          "output_type": "display_data",
          "data": {
            "text/plain": [
              "<Figure size 432x288 with 1 Axes>"
            ],
            "image/png": "[encoded data removed]"
          },
          "metadata": {
            "needs_background": "light"
          }
        },
        {
          "output_type": "display_data",
          "data": {
            "text/plain": [
              "<Figure size 432x288 with 1 Axes>"
            ],
            "image/png": "[encoded data removed]"
          },
          "metadata": {
            "needs_background": "light"
          }
        },
        {
          "output_type": "display_data",
          "data": {
            "text/plain": [
              "<Figure size 432x288 with 1 Axes>"
            ],
            "image/png": "[encoded data removed]"
          },
          "metadata": {
            "needs_background": "light"
          }
        },
        {
          "output_type": "display_data",
          "data": {
            "text/plain": [
              "<Figure size 432x288 with 1 Axes>"
            ],
            "image/png": "[encoded data removed]"
          },
          "metadata": {
            "needs_background": "light"
          }
        },
        {
          "output_type": "display_data",
          "data": {
            "text/plain": [
              "<Figure size 432x288 with 1 Axes>"
            ],
            "image/png": "[encoded data removed]"
          },
          "metadata": {
            "needs_background": "light"
          }
        }
      ]
    },
    {
      "cell_type": "markdown",
      "source": [
        "*   Terdapat outliers pada Reached on time dimana ada variabel berbeda yaitu 3. Reached on time harusnya memiliki dua variabel yaitu 0 dan 1 yang mengindikasikan apakah produk sampai tepat waktu atau tidak tepat waktu\n",
        "*   Terdapat outliers pada Warehouse block dimana seharusnya hanya terdiri dari block A, B, C, D, dan F tetapi terdapat block tambahan yaitu ZX\n",
        "*  Kebanyakan customer memiliki 3 atau 4 prior products tetapi ada juga customer yang memiliki kurang atau lebih dari 3 atau 4 prior products \n",
        "*   terdapat inkonsistensi penggunaan nama variable pada gender yaitu F, M, Female dan Male\n",
        "*  Discount offered paling banyak/sering diberikan sebesar 4 hingga 10 tetapi terdapat discount yang lebih kecil dan lebih besar dari 10"
      ],
      "metadata": {
        "id": "enTDAk4rtTCb"
      }
    },
    {
      "cell_type": "markdown",
      "source": [
        "### Checking duplicate values"
      ],
      "metadata": {
        "id": "_VRf0c_jepgh"
      }
    },
    {
      "cell_type": "code",
      "source": [
        "duplicate = df[df.duplicated()]\n",
        "print('data duplicate')\n",
        "duplicate"
      ],
      "metadata": {
        "id": "0faT0nrZe317",
        "colab": {
          "base_uri": "https://localhost:8080/",
          "height": 131
        },
        "outputId": "f7529fb1-535c-4322-94e3-75bd9c59a215"
      },
      "execution_count": null,
      "outputs": [
        {
          "output_type": "stream",
          "name": "stdout",
          "text": [
            "data duplicate\n"
          ]
        },
        {
          "output_type": "execute_result",
          "data": {
            "text/plain": [
              "Empty DataFrame\n",
              "Columns: [ID, Warehouse_block, Mode_of_Shipment, Customer_care_calls, Customer_rating, Cost_of_the_Product, Prior_purchases, Product_importance, Gender, Discount_offered, Weight_in_gms, Reached.on.Time_Y.N]\n",
              "Index: []"
            ],
            "text/html": [
              "\n",
              "  <div id=\"df-c150914e-a3da-4d40-bc11-9df0dc8f5122\">\n",
              "    <div class=\"colab-df-container\">\n",
              "      <div>\n",
              "<style scoped>\n",
              "    .dataframe tbody tr th:only-of-type {\n",
              "        vertical-align: middle;\n",
              "    }\n",
              "\n",
              "    .dataframe tbody tr th {\n",
              "        vertical-align: top;\n",
              "    }\n",
              "\n",
              "    .dataframe thead th {\n",
              "        text-align: right;\n",
              "    }\n",
              "</style>\n",
              "<table border=\"1\" class=\"dataframe\">\n",
              "  <thead>\n",
              "    <tr style=\"text-align: right;\">\n",
              "      <th></th>\n",
              "      <th>ID</th>\n",
              "      <th>Warehouse_block</th>\n",
              "      <th>Mode_of_Shipment</th>\n",
              "      <th>Customer_care_calls</th>\n",
              "      <th>Customer_rating</th>\n",
              "      <th>Cost_of_the_Product</th>\n",
              "      <th>Prior_purchases</th>\n",
              "      <th>Product_importance</th>\n",
              "      <th>Gender</th>\n",
              "      <th>Discount_offered</th>\n",
              "      <th>Weight_in_gms</th>\n",
              "      <th>Reached.on.Time_Y.N</th>\n",
              "    </tr>\n",
              "  </thead>\n",
              "  <tbody>\n",
              "  </tbody>\n",
              "</table>\n",
              "</div>\n",
              "      <button class=\"colab-df-convert\" onclick=\"convertToInteractive('df-c150914e-a3da-4d40-bc11-9df0dc8f5122')\"\n",
              "              title=\"Convert this dataframe to an interactive table.\"\n",
              "              style=\"display:none;\">\n",
              "        \n",
              "  <svg xmlns=\"http://www.w3.org/2000/svg\" height=\"24px\"viewBox=\"0 0 24 24\"\n",
              "       width=\"24px\">\n",
              "    <path d=\"M0 0h24v24H0V0z\" fill=\"none\"/>\n",
              "    <path d=\"M18.56 5.44l.94 2.06.94-2.06 2.06-.94-2.06-.94-.94-2.06-.94 2.06-2.06.94zm-11 1L8.5 8.5l.94-2.06 2.06-.94-2.06-.94L8.5 2.5l-.94 2.06-2.06.94zm10 10l.94 2.06.94-2.06 2.06-.94-2.06-.94-.94-2.06-.94 2.06-2.06.94z\"/><path d=\"M17.41 7.96l-1.37-1.37c-.4-.4-.92-.59-1.43-.59-.52 0-1.04.2-1.43.59L10.3 9.45l-7.72 7.72c-.78.78-.78 2.05 0 2.83L4 21.41c.39.39.9.59 1.41.59.51 0 1.02-.2 1.41-.59l7.78-7.78 2.81-2.81c.8-.78.8-2.07 0-2.86zM5.41 20L4 18.59l7.72-7.72 1.47 1.35L5.41 20z\"/>\n",
              "  </svg>\n",
              "      </button>\n",
              "      \n",
              "  <style>\n",
              "    .colab-df-container {\n",
              "      display:flex;\n",
              "      flex-wrap:wrap;\n",
              "      gap: 12px;\n",
              "    }\n",
              "\n",
              "    .colab-df-convert {\n",
              "      background-color: #E8F0FE;\n",
              "      border: none;\n",
              "      border-radius: 50%;\n",
              "      cursor: pointer;\n",
              "      display: none;\n",
              "      fill: #1967D2;\n",
              "      height: 32px;\n",
              "      padding: 0 0 0 0;\n",
              "      width: 32px;\n",
              "    }\n",
              "\n",
              "    .colab-df-convert:hover {\n",
              "      background-color: #E2EBFA;\n",
              "      box-shadow: 0px 1px 2px rgba(60, 64, 67, 0.3), 0px 1px 3px 1px rgba(60, 64, 67, 0.15);\n",
              "      fill: #174EA6;\n",
              "    }\n",
              "\n",
              "    [theme=dark] .colab-df-convert {\n",
              "      background-color: #3B4455;\n",
              "      fill: #D2E3FC;\n",
              "    }\n",
              "\n",
              "    [theme=dark] .colab-df-convert:hover {\n",
              "      background-color: #434B5C;\n",
              "      box-shadow: 0px 1px 3px 1px rgba(0, 0, 0, 0.15);\n",
              "      filter: drop-shadow(0px 1px 2px rgba(0, 0, 0, 0.3));\n",
              "      fill: #FFFFFF;\n",
              "    }\n",
              "  </style>\n",
              "\n",
              "      <script>\n",
              "        const buttonEl =\n",
              "          document.querySelector('#df-c150914e-a3da-4d40-bc11-9df0dc8f5122 button.colab-df-convert');\n",
              "        buttonEl.style.display =\n",
              "          google.colab.kernel.accessAllowed ? 'block' : 'none';\n",
              "\n",
              "        async function convertToInteractive(key) {\n",
              "          const element = document.querySelector('#df-c150914e-a3da-4d40-bc11-9df0dc8f5122');\n",
              "          const dataTable =\n",
              "            await google.colab.kernel.invokeFunction('convertToInteractive',\n",
              "                                                     [key], {});\n",
              "          if (!dataTable) return;\n",
              "\n",
              "          const docLinkHtml = 'Like what you see? Visit the ' +\n",
              "            '<a target=\"_blank\" href=https://colab.research.google.com/notebooks/data_table.ipynb>data table notebook</a>'\n",
              "            + ' to learn more about interactive tables.';\n",
              "          element.innerHTML = '';\n",
              "          dataTable['output_type'] = 'display_data';\n",
              "          await google.colab.output.renderOutput(dataTable, element);\n",
              "          const docLink = document.createElement('div');\n",
              "          docLink.innerHTML = docLinkHtml;\n",
              "          element.appendChild(docLink);\n",
              "        }\n",
              "      </script>\n",
              "    </div>\n",
              "  </div>\n",
              "  "
            ]
          },
          "metadata": {},
          "execution_count": 8
        }
      ]
    },
    {
      "cell_type": "markdown",
      "source": [
        "\n",
        "\n",
        "*   Terdapat enam baris yang memiliki duplicate data, di mana ID 21 dan 109 masing-masing memiliki tiga baris data yang sama.\n",
        "\n"
      ],
      "metadata": {
        "id": "AGtZ6Xc1fOVi"
      }
    },
    {
      "cell_type": "markdown",
      "source": [
        "### Initial EDA"
      ],
      "metadata": {
        "id": "dC7sJ72YBmt_"
      }
    },
    {
      "cell_type": "code",
      "source": [
        "cols = ['Warehouse_block', 'Mode_of_Shipment', 'Customer_care_calls',\n",
        "        'Prior_purchases', 'Product_importance', 'Gender']\n",
        "\n",
        "plt.figure(figsize = (12, 16))\n",
        "plotnumber = 1\n",
        "\n",
        "for i in range(len(cols)):\n",
        "    if plotnumber <= 8:\n",
        "        ax = plt.subplot(4, 2, plotnumber)\n",
        "        sns.countplot(x = cols[i], data = df, ax = ax, palette='cividis')\n",
        "        plt.title(f'{cols[i]}', fontsize = 20)\n",
        "        \n",
        "    plotnumber += 1\n",
        "\n",
        "plt.tight_layout()\n",
        "plt.show()"
      ],
      "metadata": {
        "colab": {
          "base_uri": "https://localhost:8080/",
          "height": 900
        },
        "id": "N3rEJ4a4Ej03",
        "outputId": "95ea6fee-11c9-4f1e-b677-5a349c749310"
      },
      "execution_count": null,
      "outputs": [
        {
          "output_type": "display_data",
          "data": {
            "text/plain": [
              "<Figure size 864x1152 with 6 Axes>"
            ],
            "image/png": "[encoded data removed]"
          },
          "metadata": {
            "needs_background": "light"
          }
        }
      ]
    },
    {
      "cell_type": "markdown",
      "source": [
        "*   Warehouse F memiliki lebih banyak menyimpan barang dibandingkan dengan warehouse lainnya\n",
        "*   Mode of shipment dengan kapal lebih banyak digunakan untuk mengantarkan barang ke customer\n",
        "*  Customer cenderung menghubungi customer care calls sebanyak 3 atau 4 kali\n",
        "*   Customer rating tidak memiliki banyak perbedaan\n",
        "*   Sebagian besar pelanggan memiliki 3 pembelian sebelumnya\n",
        "*   Kebanyakan produk memiliki tingkat kepentingan yang rendah\n",
        "*   Gender berisi F dan M dengan customer masing-masing lebih dari 5000 customer\n",
        "*   Lebih banyak produk yang sampai tepat waktu dibandingkan produk yang tidak tepat waktu"
      ],
      "metadata": {
        "id": "iv2SXWe-tek5"
      }
    },
    {
      "cell_type": "code",
      "source": [
        "colors = ['#2B3E65', '#505768', '#6D6E71', '#8B887B', '#A9A078', '#C9BA6B']\n",
        "\n",
        "for col in ['Customer_rating','Reached.on.Time_Y.N', 'Prior_purchases']:\n",
        "  plt.figure(figsize=(5,5))\n",
        "  plt.pie(df[col].value_counts(), labels=df[col].unique(), labeldistance=1.1, autopct='%1.1f%%', wedgeprops = { 'linewidth' : 1, 'edgecolor' : 'white' }, colors=colors)\n",
        "  plt.axis('equal')  # Equal aspect ratio ensures that pie is drawn as a circle.\n",
        "  plt.title(f'percentage of {col}')\n",
        "plt.show()"
      ],
      "metadata": {
        "id": "YRqBKZ-fqPgb",
        "colab": {
          "base_uri": "https://localhost:8080/",
          "height": 926
        },
        "outputId": "3622e0f1-1059-4718-fd95-e6717263495a"
      },
      "execution_count": null,
      "outputs": [
        {
          "output_type": "display_data",
          "data": {
            "text/plain": [
              "<Figure size 360x360 with 1 Axes>"
            ],
            "image/png": "[encoded data removed]"
          },
          "metadata": {}
        },
        {
          "output_type": "display_data",
          "data": {
            "text/plain": [
              "<Figure size 360x360 with 1 Axes>"
            ],
            "image/png": "[encoded data removed]"
          },
          "metadata": {}
        },
        {
          "output_type": "display_data",
          "data": {
            "text/plain": [
              "<Figure size 360x360 with 1 Axes>"
            ],
            "image/png": "[encoded data removed]"
          },
          "metadata": {}
        }
      ]
    },
    {
      "cell_type": "markdown",
      "source": [
        "### Data Exploration"
      ],
      "metadata": {
        "id": "DedSHUBnbNnR"
      }
    },
    {
      "cell_type": "code",
      "source": [
        "df.info()"
      ],
      "metadata": {
        "id": "vc1jCDxgbSLJ",
        "colab": {
          "base_uri": "https://localhost:8080/"
        },
        "outputId": "fdb616ae-4b0e-41db-862b-1fa61ab33ba3"
      },
      "execution_count": null,
      "outputs": [
        {
          "output_type": "stream",
          "name": "stdout",
          "text": [
            "<class 'pandas.core.frame.DataFrame'>\n",
            "RangeIndex: 11005 entries, 0 to 11004\n",
            "Data columns (total 12 columns):\n",
            " #   Column               Non-Null Count  Dtype  \n",
            "---  ------               --------------  -----  \n",
            " 0   ID                   11005 non-null  int64  \n",
            " 1   Warehouse_block      11005 non-null  object \n",
            " 2   Mode_of_Shipment     11005 non-null  object \n",
            " 3   Customer_care_calls  10983 non-null  float64\n",
            " 4   Customer_rating      11005 non-null  int64  \n",
            " 5   Cost_of_the_Product  11005 non-null  int64  \n",
            " 6   Prior_purchases      11005 non-null  int64  \n",
            " 7   Product_importance   11005 non-null  object \n",
            " 8   Gender               11005 non-null  object \n",
            " 9   Discount_offered     10905 non-null  float64\n",
            " 10  Weight_in_gms        11005 non-null  int64  \n",
            " 11  Reached.on.Time_Y.N  11005 non-null  int64  \n",
            "dtypes: float64(2), int64(6), object(4)\n",
            "memory usage: 1.0+ MB\n"
          ]
        }
      ]
    },
    {
      "cell_type": "code",
      "source": [
        "object_columns = df.select_dtypes(include = ['object'])\n",
        "object_columns.head()"
      ],
      "metadata": {
        "colab": {
          "base_uri": "https://localhost:8080/",
          "height": 206
        },
        "id": "vyC0S0H1oh_G",
        "outputId": "1e0e7e39-6ff5-45aa-a989-198237a4a20b"
      },
      "execution_count": null,
      "outputs": [
        {
          "output_type": "execute_result",
          "data": {
            "text/plain": [
              "  Warehouse_block Mode_of_Shipment Product_importance Gender\n",
              "0               D           Flight                low      F\n",
              "1               F           Flight                low      M\n",
              "2               A           Flight                low      M\n",
              "3               B           Flight             medium      M\n",
              "4               C           Flight             medium      F"
            ],
            "text/html": [
              "\n",
              "  <div id=\"df-6b5ef8b0-702a-457b-8eb1-6714a9395f10\">\n",
              "    <div class=\"colab-df-container\">\n",
              "      <div>\n",
              "<style scoped>\n",
              "    .dataframe tbody tr th:only-of-type {\n",
              "        vertical-align: middle;\n",
              "    }\n",
              "\n",
              "    .dataframe tbody tr th {\n",
              "        vertical-align: top;\n",
              "    }\n",
              "\n",
              "    .dataframe thead th {\n",
              "        text-align: right;\n",
              "    }\n",
              "</style>\n",
              "<table border=\"1\" class=\"dataframe\">\n",
              "  <thead>\n",
              "    <tr style=\"text-align: right;\">\n",
              "      <th></th>\n",
              "      <th>Warehouse_block</th>\n",
              "      <th>Mode_of_Shipment</th>\n",
              "      <th>Product_importance</th>\n",
              "      <th>Gender</th>\n",
              "    </tr>\n",
              "  </thead>\n",
              "  <tbody>\n",
              "    <tr>\n",
              "      <th>0</th>\n",
              "      <td>D</td>\n",
              "      <td>Flight</td>\n",
              "      <td>low</td>\n",
              "      <td>F</td>\n",
              "    </tr>\n",
              "    <tr>\n",
              "      <th>1</th>\n",
              "      <td>F</td>\n",
              "      <td>Flight</td>\n",
              "      <td>low</td>\n",
              "      <td>M</td>\n",
              "    </tr>\n",
              "    <tr>\n",
              "      <th>2</th>\n",
              "      <td>A</td>\n",
              "      <td>Flight</td>\n",
              "      <td>low</td>\n",
              "      <td>M</td>\n",
              "    </tr>\n",
              "    <tr>\n",
              "      <th>3</th>\n",
              "      <td>B</td>\n",
              "      <td>Flight</td>\n",
              "      <td>medium</td>\n",
              "      <td>M</td>\n",
              "    </tr>\n",
              "    <tr>\n",
              "      <th>4</th>\n",
              "      <td>C</td>\n",
              "      <td>Flight</td>\n",
              "      <td>medium</td>\n",
              "      <td>F</td>\n",
              "    </tr>\n",
              "  </tbody>\n",
              "</table>\n",
              "</div>\n",
              "      <button class=\"colab-df-convert\" onclick=\"convertToInteractive('df-6b5ef8b0-702a-457b-8eb1-6714a9395f10')\"\n",
              "              title=\"Convert this dataframe to an interactive table.\"\n",
              "              style=\"display:none;\">\n",
              "        \n",
              "  <svg xmlns=\"http://www.w3.org/2000/svg\" height=\"24px\"viewBox=\"0 0 24 24\"\n",
              "       width=\"24px\">\n",
              "    <path d=\"M0 0h24v24H0V0z\" fill=\"none\"/>\n",
              "    <path d=\"M18.56 5.44l.94 2.06.94-2.06 2.06-.94-2.06-.94-.94-2.06-.94 2.06-2.06.94zm-11 1L8.5 8.5l.94-2.06 2.06-.94-2.06-.94L8.5 2.5l-.94 2.06-2.06.94zm10 10l.94 2.06.94-2.06 2.06-.94-2.06-.94-.94-2.06-.94 2.06-2.06.94z\"/><path d=\"M17.41 7.96l-1.37-1.37c-.4-.4-.92-.59-1.43-.59-.52 0-1.04.2-1.43.59L10.3 9.45l-7.72 7.72c-.78.78-.78 2.05 0 2.83L4 21.41c.39.39.9.59 1.41.59.51 0 1.02-.2 1.41-.59l7.78-7.78 2.81-2.81c.8-.78.8-2.07 0-2.86zM5.41 20L4 18.59l7.72-7.72 1.47 1.35L5.41 20z\"/>\n",
              "  </svg>\n",
              "      </button>\n",
              "      \n",
              "  <style>\n",
              "    .colab-df-container {\n",
              "      display:flex;\n",
              "      flex-wrap:wrap;\n",
              "      gap: 12px;\n",
              "    }\n",
              "\n",
              "    .colab-df-convert {\n",
              "      background-color: #E8F0FE;\n",
              "      border: none;\n",
              "      border-radius: 50%;\n",
              "      cursor: pointer;\n",
              "      display: none;\n",
              "      fill: #1967D2;\n",
              "      height: 32px;\n",
              "      padding: 0 0 0 0;\n",
              "      width: 32px;\n",
              "    }\n",
              "\n",
              "    .colab-df-convert:hover {\n",
              "      background-color: #E2EBFA;\n",
              "      box-shadow: 0px 1px 2px rgba(60, 64, 67, 0.3), 0px 1px 3px 1px rgba(60, 64, 67, 0.15);\n",
              "      fill: #174EA6;\n",
              "    }\n",
              "\n",
              "    [theme=dark] .colab-df-convert {\n",
              "      background-color: #3B4455;\n",
              "      fill: #D2E3FC;\n",
              "    }\n",
              "\n",
              "    [theme=dark] .colab-df-convert:hover {\n",
              "      background-color: #434B5C;\n",
              "      box-shadow: 0px 1px 3px 1px rgba(0, 0, 0, 0.15);\n",
              "      filter: drop-shadow(0px 1px 2px rgba(0, 0, 0, 0.3));\n",
              "      fill: #FFFFFF;\n",
              "    }\n",
              "  </style>\n",
              "\n",
              "      <script>\n",
              "        const buttonEl =\n",
              "          document.querySelector('#df-6b5ef8b0-702a-457b-8eb1-6714a9395f10 button.colab-df-convert');\n",
              "        buttonEl.style.display =\n",
              "          google.colab.kernel.accessAllowed ? 'block' : 'none';\n",
              "\n",
              "        async function convertToInteractive(key) {\n",
              "          const element = document.querySelector('#df-6b5ef8b0-702a-457b-8eb1-6714a9395f10');\n",
              "          const dataTable =\n",
              "            await google.colab.kernel.invokeFunction('convertToInteractive',\n",
              "                                                     [key], {});\n",
              "          if (!dataTable) return;\n",
              "\n",
              "          const docLinkHtml = 'Like what you see? Visit the ' +\n",
              "            '<a target=\"_blank\" href=https://colab.research.google.com/notebooks/data_table.ipynb>data table notebook</a>'\n",
              "            + ' to learn more about interactive tables.';\n",
              "          element.innerHTML = '';\n",
              "          dataTable['output_type'] = 'display_data';\n",
              "          await google.colab.output.renderOutput(dataTable, element);\n",
              "          const docLink = document.createElement('div');\n",
              "          docLink.innerHTML = docLinkHtml;\n",
              "          element.appendChild(docLink);\n",
              "        }\n",
              "      </script>\n",
              "    </div>\n",
              "  </div>\n",
              "  "
            ]
          },
          "metadata": {},
          "execution_count": 11
        }
      ]
    },
    {
      "cell_type": "code",
      "source": [
        "df.describe()"
      ],
      "metadata": {
        "id": "VSoWhT2qlPMF",
        "colab": {
          "base_uri": "https://localhost:8080/",
          "height": 364
        },
        "outputId": "515c42ca-103d-472b-98d9-c1290070549f"
      },
      "execution_count": null,
      "outputs": [
        {
          "output_type": "execute_result",
          "data": {
            "text/plain": [
              "                 ID  Customer_care_calls  Customer_rating  \\\n",
              "count  11005.000000         10983.000000     11005.000000   \n",
              "mean    5497.036801             4.052354         2.991095   \n",
              "std     3176.951036             1.140826         1.413607   \n",
              "min        1.000000             2.000000         1.000000   \n",
              "25%     2746.000000             3.000000         2.000000   \n",
              "50%     5497.000000             4.000000         3.000000   \n",
              "75%     8248.000000             5.000000         4.000000   \n",
              "max    10999.000000             7.000000         5.000000   \n",
              "\n",
              "       Cost_of_the_Product  Prior_purchases  Discount_offered  Weight_in_gms  \\\n",
              "count         1.100500e+04     11005.000000      10905.000000   11005.000000   \n",
              "mean          9.296761e+03         3.567015         13.205777    3633.337937   \n",
              "std           3.013132e+05         1.522694         16.084945    1635.315267   \n",
              "min           9.600000e+01         2.000000          1.000000    1001.000000   \n",
              "25%           1.690000e+02         3.000000          4.000000    1839.000000   \n",
              "50%           2.140000e+02         3.000000          7.000000    4148.000000   \n",
              "75%           2.510000e+02         4.000000         10.000000    5049.000000   \n",
              "max           1.000000e+07        10.000000         65.000000    7846.000000   \n",
              "\n",
              "       Reached.on.Time_Y.N  \n",
              "count         11005.000000  \n",
              "mean              0.598819  \n",
              "std               0.494038  \n",
              "min               0.000000  \n",
              "25%               0.000000  \n",
              "50%               1.000000  \n",
              "75%               1.000000  \n",
              "max               3.000000  "
            ],
            "text/html": [
              "\n",
              "  <div id=\"df-b787e6d5-6ff7-4ae3-a3ab-4ad801528676\">\n",
              "    <div class=\"colab-df-container\">\n",
              "      <div>\n",
              "<style scoped>\n",
              "    .dataframe tbody tr th:only-of-type {\n",
              "        vertical-align: middle;\n",
              "    }\n",
              "\n",
              "    .dataframe tbody tr th {\n",
              "        vertical-align: top;\n",
              "    }\n",
              "\n",
              "    .dataframe thead th {\n",
              "        text-align: right;\n",
              "    }\n",
              "</style>\n",
              "<table border=\"1\" class=\"dataframe\">\n",
              "  <thead>\n",
              "    <tr style=\"text-align: right;\">\n",
              "      <th></th>\n",
              "      <th>ID</th>\n",
              "      <th>Customer_care_calls</th>\n",
              "      <th>Customer_rating</th>\n",
              "      <th>Cost_of_the_Product</th>\n",
              "      <th>Prior_purchases</th>\n",
              "      <th>Discount_offered</th>\n",
              "      <th>Weight_in_gms</th>\n",
              "      <th>Reached.on.Time_Y.N</th>\n",
              "    </tr>\n",
              "  </thead>\n",
              "  <tbody>\n",
              "    <tr>\n",
              "      <th>count</th>\n",
              "      <td>11005.000000</td>\n",
              "      <td>10983.000000</td>\n",
              "      <td>11005.000000</td>\n",
              "      <td>1.100500e+04</td>\n",
              "      <td>11005.000000</td>\n",
              "      <td>10905.000000</td>\n",
              "      <td>11005.000000</td>\n",
              "      <td>11005.000000</td>\n",
              "    </tr>\n",
              "    <tr>\n",
              "      <th>mean</th>\n",
              "      <td>5497.036801</td>\n",
              "      <td>4.052354</td>\n",
              "      <td>2.991095</td>\n",
              "      <td>9.296761e+03</td>\n",
              "      <td>3.567015</td>\n",
              "      <td>13.205777</td>\n",
              "      <td>3633.337937</td>\n",
              "      <td>0.598819</td>\n",
              "    </tr>\n",
              "    <tr>\n",
              "      <th>std</th>\n",
              "      <td>3176.951036</td>\n",
              "      <td>1.140826</td>\n",
              "      <td>1.413607</td>\n",
              "      <td>3.013132e+05</td>\n",
              "      <td>1.522694</td>\n",
              "      <td>16.084945</td>\n",
              "      <td>1635.315267</td>\n",
              "      <td>0.494038</td>\n",
              "    </tr>\n",
              "    <tr>\n",
              "      <th>min</th>\n",
              "      <td>1.000000</td>\n",
              "      <td>2.000000</td>\n",
              "      <td>1.000000</td>\n",
              "      <td>9.600000e+01</td>\n",
              "      <td>2.000000</td>\n",
              "      <td>1.000000</td>\n",
              "      <td>1001.000000</td>\n",
              "      <td>0.000000</td>\n",
              "    </tr>\n",
              "    <tr>\n",
              "      <th>25%</th>\n",
              "      <td>2746.000000</td>\n",
              "      <td>3.000000</td>\n",
              "      <td>2.000000</td>\n",
              "      <td>1.690000e+02</td>\n",
              "      <td>3.000000</td>\n",
              "      <td>4.000000</td>\n",
              "      <td>1839.000000</td>\n",
              "      <td>0.000000</td>\n",
              "    </tr>\n",
              "    <tr>\n",
              "      <th>50%</th>\n",
              "      <td>5497.000000</td>\n",
              "      <td>4.000000</td>\n",
              "      <td>3.000000</td>\n",
              "      <td>2.140000e+02</td>\n",
              "      <td>3.000000</td>\n",
              "      <td>7.000000</td>\n",
              "      <td>4148.000000</td>\n",
              "      <td>1.000000</td>\n",
              "    </tr>\n",
              "    <tr>\n",
              "      <th>75%</th>\n",
              "      <td>8248.000000</td>\n",
              "      <td>5.000000</td>\n",
              "      <td>4.000000</td>\n",
              "      <td>2.510000e+02</td>\n",
              "      <td>4.000000</td>\n",
              "      <td>10.000000</td>\n",
              "      <td>5049.000000</td>\n",
              "      <td>1.000000</td>\n",
              "    </tr>\n",
              "    <tr>\n",
              "      <th>max</th>\n",
              "      <td>10999.000000</td>\n",
              "      <td>7.000000</td>\n",
              "      <td>5.000000</td>\n",
              "      <td>1.000000e+07</td>\n",
              "      <td>10.000000</td>\n",
              "      <td>65.000000</td>\n",
              "      <td>7846.000000</td>\n",
              "      <td>3.000000</td>\n",
              "    </tr>\n",
              "  </tbody>\n",
              "</table>\n",
              "</div>\n",
              "      <button class=\"colab-df-convert\" onclick=\"convertToInteractive('df-b787e6d5-6ff7-4ae3-a3ab-4ad801528676')\"\n",
              "              title=\"Convert this dataframe to an interactive table.\"\n",
              "              style=\"display:none;\">\n",
              "        \n",
              "  <svg xmlns=\"http://www.w3.org/2000/svg\" height=\"24px\"viewBox=\"0 0 24 24\"\n",
              "       width=\"24px\">\n",
              "    <path d=\"M0 0h24v24H0V0z\" fill=\"none\"/>\n",
              "    <path d=\"M18.56 5.44l.94 2.06.94-2.06 2.06-.94-2.06-.94-.94-2.06-.94 2.06-2.06.94zm-11 1L8.5 8.5l.94-2.06 2.06-.94-2.06-.94L8.5 2.5l-.94 2.06-2.06.94zm10 10l.94 2.06.94-2.06 2.06-.94-2.06-.94-.94-2.06-.94 2.06-2.06.94z\"/><path d=\"M17.41 7.96l-1.37-1.37c-.4-.4-.92-.59-1.43-.59-.52 0-1.04.2-1.43.59L10.3 9.45l-7.72 7.72c-.78.78-.78 2.05 0 2.83L4 21.41c.39.39.9.59 1.41.59.51 0 1.02-.2 1.41-.59l7.78-7.78 2.81-2.81c.8-.78.8-2.07 0-2.86zM5.41 20L4 18.59l7.72-7.72 1.47 1.35L5.41 20z\"/>\n",
              "  </svg>\n",
              "      </button>\n",
              "      \n",
              "  <style>\n",
              "    .colab-df-container {\n",
              "      display:flex;\n",
              "      flex-wrap:wrap;\n",
              "      gap: 12px;\n",
              "    }\n",
              "\n",
              "    .colab-df-convert {\n",
              "      background-color: #E8F0FE;\n",
              "      border: none;\n",
              "      border-radius: 50%;\n",
              "      cursor: pointer;\n",
              "      display: none;\n",
              "      fill: #1967D2;\n",
              "      height: 32px;\n",
              "      padding: 0 0 0 0;\n",
              "      width: 32px;\n",
              "    }\n",
              "\n",
              "    .colab-df-convert:hover {\n",
              "      background-color: #E2EBFA;\n",
              "      box-shadow: 0px 1px 2px rgba(60, 64, 67, 0.3), 0px 1px 3px 1px rgba(60, 64, 67, 0.15);\n",
              "      fill: #174EA6;\n",
              "    }\n",
              "\n",
              "    [theme=dark] .colab-df-convert {\n",
              "      background-color: #3B4455;\n",
              "      fill: #D2E3FC;\n",
              "    }\n",
              "\n",
              "    [theme=dark] .colab-df-convert:hover {\n",
              "      background-color: #434B5C;\n",
              "      box-shadow: 0px 1px 3px 1px rgba(0, 0, 0, 0.15);\n",
              "      filter: drop-shadow(0px 1px 2px rgba(0, 0, 0, 0.3));\n",
              "      fill: #FFFFFF;\n",
              "    }\n",
              "  </style>\n",
              "\n",
              "      <script>\n",
              "        const buttonEl =\n",
              "          document.querySelector('#df-b787e6d5-6ff7-4ae3-a3ab-4ad801528676 button.colab-df-convert');\n",
              "        buttonEl.style.display =\n",
              "          google.colab.kernel.accessAllowed ? 'block' : 'none';\n",
              "\n",
              "        async function convertToInteractive(key) {\n",
              "          const element = document.querySelector('#df-b787e6d5-6ff7-4ae3-a3ab-4ad801528676');\n",
              "          const dataTable =\n",
              "            await google.colab.kernel.invokeFunction('convertToInteractive',\n",
              "                                                     [key], {});\n",
              "          if (!dataTable) return;\n",
              "\n",
              "          const docLinkHtml = 'Like what you see? Visit the ' +\n",
              "            '<a target=\"_blank\" href=https://colab.research.google.com/notebooks/data_table.ipynb>data table notebook</a>'\n",
              "            + ' to learn more about interactive tables.';\n",
              "          element.innerHTML = '';\n",
              "          dataTable['output_type'] = 'display_data';\n",
              "          await google.colab.output.renderOutput(dataTable, element);\n",
              "          const docLink = document.createElement('div');\n",
              "          docLink.innerHTML = docLinkHtml;\n",
              "          element.appendChild(docLink);\n",
              "        }\n",
              "      </script>\n",
              "    </div>\n",
              "  </div>\n",
              "  "
            ]
          },
          "metadata": {},
          "execution_count": 11
        }
      ]
    },
    {
      "cell_type": "markdown",
      "source": [
        "Note :\n",
        "\n",
        "- Terdapat indikasi missing value dari perbedaan jumlah record pada kolom `Customer_care_calls` dan `Discount_offered` dengan jumlah record kolom lain pada umumnya, sedangkan nilai yang sangat tinggi terdapat pada kolom `Cost_of_the_product` mengindikasikan terdapat outliers pada kolom tersebut."
      ],
      "metadata": {
        "id": "543w5AO6lSFc"
      }
    },
    {
      "cell_type": "markdown",
      "source": [
        "### Checking Null values using Heatmap"
      ],
      "metadata": {
        "id": "m7qMT-uVmgTb"
      }
    },
    {
      "cell_type": "code",
      "source": [
        "sns.heatmap(df.isnull(),yticklabels=False,cmap='viridis')"
      ],
      "metadata": {
        "id": "49NmIMOVmS8F",
        "colab": {
          "base_uri": "https://localhost:8080/",
          "height": 382
        },
        "outputId": "87166966-f9b6-47de-9c20-1df9d67b4c60"
      },
      "execution_count": null,
      "outputs": [
        {
          "output_type": "execute_result",
          "data": {
            "text/plain": [
              "<matplotlib.axes._subplots.AxesSubplot at 0x7ff8c1e6ed90>"
            ]
          },
          "metadata": {},
          "execution_count": 5
        },
        {
          "output_type": "display_data",
          "data": {
            "text/plain": [
              "<Figure size 432x288 with 2 Axes>"
            ],
            "image/png": "[encoded data removed]"
          },
          "metadata": {
            "needs_background": "light"
          }
        }
      ]
    },
    {
      "cell_type": "markdown",
      "source": [
        "- Dari Heatmap tersebut dapat diketahui bahwa lokasi `Null Values` terdapat pada kolom `Customer_care_calls` dan `Discount_offered`. Tebal heatmap dari  `Discount_offered` cukup terlihat, dapat kita indikasikan bahwa `Null Values` pada kolom tersebut cukup banyak"
      ],
      "metadata": {
        "id": "cdArRTPBmoYk"
      }
    },
    {
      "cell_type": "code",
      "source": [
        "df[df['Customer_care_calls'].isna()] "
      ],
      "metadata": {
        "id": "WZqOxHPlo1vl",
        "colab": {
          "base_uri": "https://localhost:8080/",
          "height": 803
        },
        "outputId": "70fc5eb0-638d-4f46-dab3-8e04d29a9db5"
      },
      "execution_count": null,
      "outputs": [
        {
          "output_type": "execute_result",
          "data": {
            "text/plain": [
              "        ID Warehouse_block Mode_of_Shipment  Customer_care_calls  \\\n",
              "7452  7447               D             Ship                  NaN   \n",
              "7453  7448               F             Ship                  NaN   \n",
              "7454  7449               A             Ship                  NaN   \n",
              "7455  7450               B             Ship                  NaN   \n",
              "7456  7451               C             Ship                  NaN   \n",
              "7457  7452               F             Ship                  NaN   \n",
              "7458  7453               D             Ship                  NaN   \n",
              "7459  7454               F             Ship                  NaN   \n",
              "7460  7455               A             Ship                  NaN   \n",
              "7461  7456               B             Ship                  NaN   \n",
              "7462  7457               C             Ship                  NaN   \n",
              "7463  7458               F             Ship                  NaN   \n",
              "7464  7459               D             Ship                  NaN   \n",
              "7465  7460               F             Ship                  NaN   \n",
              "7466  7461               A             Ship                  NaN   \n",
              "7467  7462               B             Ship                  NaN   \n",
              "7468  7463               C             Ship                  NaN   \n",
              "7469  7464               F             Ship                  NaN   \n",
              "7470  7465               D             Ship                  NaN   \n",
              "7471  7466               F             Ship                  NaN   \n",
              "7472  7467               A             Ship                  NaN   \n",
              "7473  7468               B             Ship                  NaN   \n",
              "\n",
              "      Customer_rating  Cost_of_the_Product  Prior_purchases  \\\n",
              "7452                2                  174                3   \n",
              "7453                1                  152                7   \n",
              "7454                5                  223                5   \n",
              "7455                2                  223                5   \n",
              "7456                4                  239                5   \n",
              "7457                1                  246                6   \n",
              "7458                4                  295                4   \n",
              "7459                5                  305                4   \n",
              "7460                3                  177                4   \n",
              "7461                3                  257                5   \n",
              "7462                4                  306                4   \n",
              "7463                5                  226                6   \n",
              "7464                4                  228                5   \n",
              "7465                5                  225                5   \n",
              "7466                2                  289                4   \n",
              "7467                1                  261                5   \n",
              "7468                1                  255                5   \n",
              "7469                5                  266                5   \n",
              "7470                5                  290                4   \n",
              "7471                1                  235                5   \n",
              "7472                4                  250                4   \n",
              "7473                1                  245                5   \n",
              "\n",
              "     Product_importance Gender  Discount_offered  Weight_in_gms  \\\n",
              "7452             medium      F              10.0           4902   \n",
              "7453                low      F               5.0           5325   \n",
              "7454             medium      M               4.0           4704   \n",
              "7455                low      M               2.0           1232   \n",
              "7456                low      M               6.0           1986   \n",
              "7457                low      M               4.0           1489   \n",
              "7458                low      F              10.0           1217   \n",
              "7459                low      F               6.0           1787   \n",
              "7460             medium      F               4.0           1560   \n",
              "7461                low      F               8.0           1409   \n",
              "7462                low      F               5.0           1703   \n",
              "7463             medium      F              10.0           1348   \n",
              "7464                low      M               6.0           1853   \n",
              "7465                low      F               9.0           1646   \n",
              "7466                low      M               5.0           1918   \n",
              "7467                low      M               5.0           1837   \n",
              "7468             medium      M               9.0           1156   \n",
              "7469             medium      M               7.0           1440   \n",
              "7470                low      M               6.0           1929   \n",
              "7471                low      M               9.0           1821   \n",
              "7472                low      M               2.0           1969   \n",
              "7473                low      F               5.0           1996   \n",
              "\n",
              "      Reached.on.Time_Y.N  \n",
              "7452                    1  \n",
              "7453                    1  \n",
              "7454                    0  \n",
              "7455                    1  \n",
              "7456                    1  \n",
              "7457                    0  \n",
              "7458                    1  \n",
              "7459                    1  \n",
              "7460                    1  \n",
              "7461                    0  \n",
              "7462                    1  \n",
              "7463                    1  \n",
              "7464                    1  \n",
              "7465                    1  \n",
              "7466                    1  \n",
              "7467                    1  \n",
              "7468                    1  \n",
              "7469                    0  \n",
              "7470                    0  \n",
              "7471                    1  \n",
              "7472                    1  \n",
              "7473                    1  "
            ],
            "text/html": [
              "\n",
              "  <div id=\"df-12c25f10-716e-4cdf-bea7-5883e814ed53\">\n",
              "    <div class=\"colab-df-container\">\n",
              "      <div>\n",
              "<style scoped>\n",
              "    .dataframe tbody tr th:only-of-type {\n",
              "        vertical-align: middle;\n",
              "    }\n",
              "\n",
              "    .dataframe tbody tr th {\n",
              "        vertical-align: top;\n",
              "    }\n",
              "\n",
              "    .dataframe thead th {\n",
              "        text-align: right;\n",
              "    }\n",
              "</style>\n",
              "<table border=\"1\" class=\"dataframe\">\n",
              "  <thead>\n",
              "    <tr style=\"text-align: right;\">\n",
              "      <th></th>\n",
              "      <th>ID</th>\n",
              "      <th>Warehouse_block</th>\n",
              "      <th>Mode_of_Shipment</th>\n",
              "      <th>Customer_care_calls</th>\n",
              "      <th>Customer_rating</th>\n",
              "      <th>Cost_of_the_Product</th>\n",
              "      <th>Prior_purchases</th>\n",
              "      <th>Product_importance</th>\n",
              "      <th>Gender</th>\n",
              "      <th>Discount_offered</th>\n",
              "      <th>Weight_in_gms</th>\n",
              "      <th>Reached.on.Time_Y.N</th>\n",
              "    </tr>\n",
              "  </thead>\n",
              "  <tbody>\n",
              "    <tr>\n",
              "      <th>7452</th>\n",
              "      <td>7447</td>\n",
              "      <td>D</td>\n",
              "      <td>Ship</td>\n",
              "      <td>NaN</td>\n",
              "      <td>2</td>\n",
              "      <td>174</td>\n",
              "      <td>3</td>\n",
              "      <td>medium</td>\n",
              "      <td>F</td>\n",
              "      <td>10.0</td>\n",
              "      <td>4902</td>\n",
              "      <td>1</td>\n",
              "    </tr>\n",
              "    <tr>\n",
              "      <th>7453</th>\n",
              "      <td>7448</td>\n",
              "      <td>F</td>\n",
              "      <td>Ship</td>\n",
              "      <td>NaN</td>\n",
              "      <td>1</td>\n",
              "      <td>152</td>\n",
              "      <td>7</td>\n",
              "      <td>low</td>\n",
              "      <td>F</td>\n",
              "      <td>5.0</td>\n",
              "      <td>5325</td>\n",
              "      <td>1</td>\n",
              "    </tr>\n",
              "    <tr>\n",
              "      <th>7454</th>\n",
              "      <td>7449</td>\n",
              "      <td>A</td>\n",
              "      <td>Ship</td>\n",
              "      <td>NaN</td>\n",
              "      <td>5</td>\n",
              "      <td>223</td>\n",
              "      <td>5</td>\n",
              "      <td>medium</td>\n",
              "      <td>M</td>\n",
              "      <td>4.0</td>\n",
              "      <td>4704</td>\n",
              "      <td>0</td>\n",
              "    </tr>\n",
              "    <tr>\n",
              "      <th>7455</th>\n",
              "      <td>7450</td>\n",
              "      <td>B</td>\n",
              "      <td>Ship</td>\n",
              "      <td>NaN</td>\n",
              "      <td>2</td>\n",
              "      <td>223</td>\n",
              "      <td>5</td>\n",
              "      <td>low</td>\n",
              "      <td>M</td>\n",
              "      <td>2.0</td>\n",
              "      <td>1232</td>\n",
              "      <td>1</td>\n",
              "    </tr>\n",
              "    <tr>\n",
              "      <th>7456</th>\n",
              "      <td>7451</td>\n",
              "      <td>C</td>\n",
              "      <td>Ship</td>\n",
              "      <td>NaN</td>\n",
              "      <td>4</td>\n",
              "      <td>239</td>\n",
              "      <td>5</td>\n",
              "      <td>low</td>\n",
              "      <td>M</td>\n",
              "      <td>6.0</td>\n",
              "      <td>1986</td>\n",
              "      <td>1</td>\n",
              "    </tr>\n",
              "    <tr>\n",
              "      <th>7457</th>\n",
              "      <td>7452</td>\n",
              "      <td>F</td>\n",
              "      <td>Ship</td>\n",
              "      <td>NaN</td>\n",
              "      <td>1</td>\n",
              "      <td>246</td>\n",
              "      <td>6</td>\n",
              "      <td>low</td>\n",
              "      <td>M</td>\n",
              "      <td>4.0</td>\n",
              "      <td>1489</td>\n",
              "      <td>0</td>\n",
              "    </tr>\n",
              "    <tr>\n",
              "      <th>7458</th>\n",
              "      <td>7453</td>\n",
              "      <td>D</td>\n",
              "      <td>Ship</td>\n",
              "      <td>NaN</td>\n",
              "      <td>4</td>\n",
              "      <td>295</td>\n",
              "      <td>4</td>\n",
              "      <td>low</td>\n",
              "      <td>F</td>\n",
              "      <td>10.0</td>\n",
              "      <td>1217</td>\n",
              "      <td>1</td>\n",
              "    </tr>\n",
              "    <tr>\n",
              "      <th>7459</th>\n",
              "      <td>7454</td>\n",
              "      <td>F</td>\n",
              "      <td>Ship</td>\n",
              "      <td>NaN</td>\n",
              "      <td>5</td>\n",
              "      <td>305</td>\n",
              "      <td>4</td>\n",
              "      <td>low</td>\n",
              "      <td>F</td>\n",
              "      <td>6.0</td>\n",
              "      <td>1787</td>\n",
              "      <td>1</td>\n",
              "    </tr>\n",
              "    <tr>\n",
              "      <th>7460</th>\n",
              "      <td>7455</td>\n",
              "      <td>A</td>\n",
              "      <td>Ship</td>\n",
              "      <td>NaN</td>\n",
              "      <td>3</td>\n",
              "      <td>177</td>\n",
              "      <td>4</td>\n",
              "      <td>medium</td>\n",
              "      <td>F</td>\n",
              "      <td>4.0</td>\n",
              "      <td>1560</td>\n",
              "      <td>1</td>\n",
              "    </tr>\n",
              "    <tr>\n",
              "      <th>7461</th>\n",
              "      <td>7456</td>\n",
              "      <td>B</td>\n",
              "      <td>Ship</td>\n",
              "      <td>NaN</td>\n",
              "      <td>3</td>\n",
              "      <td>257</td>\n",
              "      <td>5</td>\n",
              "      <td>low</td>\n",
              "      <td>F</td>\n",
              "      <td>8.0</td>\n",
              "      <td>1409</td>\n",
              "      <td>0</td>\n",
              "    </tr>\n",
              "    <tr>\n",
              "      <th>7462</th>\n",
              "      <td>7457</td>\n",
              "      <td>C</td>\n",
              "      <td>Ship</td>\n",
              "      <td>NaN</td>\n",
              "      <td>4</td>\n",
              "      <td>306</td>\n",
              "      <td>4</td>\n",
              "      <td>low</td>\n",
              "      <td>F</td>\n",
              "      <td>5.0</td>\n",
              "      <td>1703</td>\n",
              "      <td>1</td>\n",
              "    </tr>\n",
              "    <tr>\n",
              "      <th>7463</th>\n",
              "      <td>7458</td>\n",
              "      <td>F</td>\n",
              "      <td>Ship</td>\n",
              "      <td>NaN</td>\n",
              "      <td>5</td>\n",
              "      <td>226</td>\n",
              "      <td>6</td>\n",
              "      <td>medium</td>\n",
              "      <td>F</td>\n",
              "      <td>10.0</td>\n",
              "      <td>1348</td>\n",
              "      <td>1</td>\n",
              "    </tr>\n",
              "    <tr>\n",
              "      <th>7464</th>\n",
              "      <td>7459</td>\n",
              "      <td>D</td>\n",
              "      <td>Ship</td>\n",
              "      <td>NaN</td>\n",
              "      <td>4</td>\n",
              "      <td>228</td>\n",
              "      <td>5</td>\n",
              "      <td>low</td>\n",
              "      <td>M</td>\n",
              "      <td>6.0</td>\n",
              "      <td>1853</td>\n",
              "      <td>1</td>\n",
              "    </tr>\n",
              "    <tr>\n",
              "      <th>7465</th>\n",
              "      <td>7460</td>\n",
              "      <td>F</td>\n",
              "      <td>Ship</td>\n",
              "      <td>NaN</td>\n",
              "      <td>5</td>\n",
              "      <td>225</td>\n",
              "      <td>5</td>\n",
              "      <td>low</td>\n",
              "      <td>F</td>\n",
              "      <td>9.0</td>\n",
              "      <td>1646</td>\n",
              "      <td>1</td>\n",
              "    </tr>\n",
              "    <tr>\n",
              "      <th>7466</th>\n",
              "      <td>7461</td>\n",
              "      <td>A</td>\n",
              "      <td>Ship</td>\n",
              "      <td>NaN</td>\n",
              "      <td>2</td>\n",
              "      <td>289</td>\n",
              "      <td>4</td>\n",
              "      <td>low</td>\n",
              "      <td>M</td>\n",
              "      <td>5.0</td>\n",
              "      <td>1918</td>\n",
              "      <td>1</td>\n",
              "    </tr>\n",
              "    <tr>\n",
              "      <th>7467</th>\n",
              "      <td>7462</td>\n",
              "      <td>B</td>\n",
              "      <td>Ship</td>\n",
              "      <td>NaN</td>\n",
              "      <td>1</td>\n",
              "      <td>261</td>\n",
              "      <td>5</td>\n",
              "      <td>low</td>\n",
              "      <td>M</td>\n",
              "      <td>5.0</td>\n",
              "      <td>1837</td>\n",
              "      <td>1</td>\n",
              "    </tr>\n",
              "    <tr>\n",
              "      <th>7468</th>\n",
              "      <td>7463</td>\n",
              "      <td>C</td>\n",
              "      <td>Ship</td>\n",
              "      <td>NaN</td>\n",
              "      <td>1</td>\n",
              "      <td>255</td>\n",
              "      <td>5</td>\n",
              "      <td>medium</td>\n",
              "      <td>M</td>\n",
              "      <td>9.0</td>\n",
              "      <td>1156</td>\n",
              "      <td>1</td>\n",
              "    </tr>\n",
              "    <tr>\n",
              "      <th>7469</th>\n",
              "      <td>7464</td>\n",
              "      <td>F</td>\n",
              "      <td>Ship</td>\n",
              "      <td>NaN</td>\n",
              "      <td>5</td>\n",
              "      <td>266</td>\n",
              "      <td>5</td>\n",
              "      <td>medium</td>\n",
              "      <td>M</td>\n",
              "      <td>7.0</td>\n",
              "      <td>1440</td>\n",
              "      <td>0</td>\n",
              "    </tr>\n",
              "    <tr>\n",
              "      <th>7470</th>\n",
              "      <td>7465</td>\n",
              "      <td>D</td>\n",
              "      <td>Ship</td>\n",
              "      <td>NaN</td>\n",
              "      <td>5</td>\n",
              "      <td>290</td>\n",
              "      <td>4</td>\n",
              "      <td>low</td>\n",
              "      <td>M</td>\n",
              "      <td>6.0</td>\n",
              "      <td>1929</td>\n",
              "      <td>0</td>\n",
              "    </tr>\n",
              "    <tr>\n",
              "      <th>7471</th>\n",
              "      <td>7466</td>\n",
              "      <td>F</td>\n",
              "      <td>Ship</td>\n",
              "      <td>NaN</td>\n",
              "      <td>1</td>\n",
              "      <td>235</td>\n",
              "      <td>5</td>\n",
              "      <td>low</td>\n",
              "      <td>M</td>\n",
              "      <td>9.0</td>\n",
              "      <td>1821</td>\n",
              "      <td>1</td>\n",
              "    </tr>\n",
              "    <tr>\n",
              "      <th>7472</th>\n",
              "      <td>7467</td>\n",
              "      <td>A</td>\n",
              "      <td>Ship</td>\n",
              "      <td>NaN</td>\n",
              "      <td>4</td>\n",
              "      <td>250</td>\n",
              "      <td>4</td>\n",
              "      <td>low</td>\n",
              "      <td>M</td>\n",
              "      <td>2.0</td>\n",
              "      <td>1969</td>\n",
              "      <td>1</td>\n",
              "    </tr>\n",
              "    <tr>\n",
              "      <th>7473</th>\n",
              "      <td>7468</td>\n",
              "      <td>B</td>\n",
              "      <td>Ship</td>\n",
              "      <td>NaN</td>\n",
              "      <td>1</td>\n",
              "      <td>245</td>\n",
              "      <td>5</td>\n",
              "      <td>low</td>\n",
              "      <td>F</td>\n",
              "      <td>5.0</td>\n",
              "      <td>1996</td>\n",
              "      <td>1</td>\n",
              "    </tr>\n",
              "  </tbody>\n",
              "</table>\n",
              "</div>\n",
              "      <button class=\"colab-df-convert\" onclick=\"convertToInteractive('df-12c25f10-716e-4cdf-bea7-5883e814ed53')\"\n",
              "              title=\"Convert this dataframe to an interactive table.\"\n",
              "              style=\"display:none;\">\n",
              "        \n",
              "  <svg xmlns=\"http://www.w3.org/2000/svg\" height=\"24px\"viewBox=\"0 0 24 24\"\n",
              "       width=\"24px\">\n",
              "    <path d=\"M0 0h24v24H0V0z\" fill=\"none\"/>\n",
              "    <path d=\"M18.56 5.44l.94 2.06.94-2.06 2.06-.94-2.06-.94-.94-2.06-.94 2.06-2.06.94zm-11 1L8.5 8.5l.94-2.06 2.06-.94-2.06-.94L8.5 2.5l-.94 2.06-2.06.94zm10 10l.94 2.06.94-2.06 2.06-.94-2.06-.94-.94-2.06-.94 2.06-2.06.94z\"/><path d=\"M17.41 7.96l-1.37-1.37c-.4-.4-.92-.59-1.43-.59-.52 0-1.04.2-1.43.59L10.3 9.45l-7.72 7.72c-.78.78-.78 2.05 0 2.83L4 21.41c.39.39.9.59 1.41.59.51 0 1.02-.2 1.41-.59l7.78-7.78 2.81-2.81c.8-.78.8-2.07 0-2.86zM5.41 20L4 18.59l7.72-7.72 1.47 1.35L5.41 20z\"/>\n",
              "  </svg>\n",
              "      </button>\n",
              "      \n",
              "  <style>\n",
              "    .colab-df-container {\n",
              "      display:flex;\n",
              "      flex-wrap:wrap;\n",
              "      gap: 12px;\n",
              "    }\n",
              "\n",
              "    .colab-df-convert {\n",
              "      background-color: #E8F0FE;\n",
              "      border: none;\n",
              "      border-radius: 50%;\n",
              "      cursor: pointer;\n",
              "      display: none;\n",
              "      fill: #1967D2;\n",
              "      height: 32px;\n",
              "      padding: 0 0 0 0;\n",
              "      width: 32px;\n",
              "    }\n",
              "\n",
              "    .colab-df-convert:hover {\n",
              "      background-color: #E2EBFA;\n",
              "      box-shadow: 0px 1px 2px rgba(60, 64, 67, 0.3), 0px 1px 3px 1px rgba(60, 64, 67, 0.15);\n",
              "      fill: #174EA6;\n",
              "    }\n",
              "\n",
              "    [theme=dark] .colab-df-convert {\n",
              "      background-color: #3B4455;\n",
              "      fill: #D2E3FC;\n",
              "    }\n",
              "\n",
              "    [theme=dark] .colab-df-convert:hover {\n",
              "      background-color: #434B5C;\n",
              "      box-shadow: 0px 1px 3px 1px rgba(0, 0, 0, 0.15);\n",
              "      filter: drop-shadow(0px 1px 2px rgba(0, 0, 0, 0.3));\n",
              "      fill: #FFFFFF;\n",
              "    }\n",
              "  </style>\n",
              "\n",
              "      <script>\n",
              "        const buttonEl =\n",
              "          document.querySelector('#df-12c25f10-716e-4cdf-bea7-5883e814ed53 button.colab-df-convert');\n",
              "        buttonEl.style.display =\n",
              "          google.colab.kernel.accessAllowed ? 'block' : 'none';\n",
              "\n",
              "        async function convertToInteractive(key) {\n",
              "          const element = document.querySelector('#df-12c25f10-716e-4cdf-bea7-5883e814ed53');\n",
              "          const dataTable =\n",
              "            await google.colab.kernel.invokeFunction('convertToInteractive',\n",
              "                                                     [key], {});\n",
              "          if (!dataTable) return;\n",
              "\n",
              "          const docLinkHtml = 'Like what you see? Visit the ' +\n",
              "            '<a target=\"_blank\" href=https://colab.research.google.com/notebooks/data_table.ipynb>data table notebook</a>'\n",
              "            + ' to learn more about interactive tables.';\n",
              "          element.innerHTML = '';\n",
              "          dataTable['output_type'] = 'display_data';\n",
              "          await google.colab.output.renderOutput(dataTable, element);\n",
              "          const docLink = document.createElement('div');\n",
              "          docLink.innerHTML = docLinkHtml;\n",
              "          element.appendChild(docLink);\n",
              "        }\n",
              "      </script>\n",
              "    </div>\n",
              "  </div>\n",
              "  "
            ]
          },
          "metadata": {},
          "execution_count": 9
        }
      ]
    },
    {
      "cell_type": "code",
      "source": [
        "df[df['Discount_offered'].isna()]"
      ],
      "metadata": {
        "id": "MPsYahkrpMq6"
      },
      "execution_count": null,
      "outputs": []
    },
    {
      "cell_type": "code",
      "source": [
        "df.boxplot(column='Discount_offered')"
      ],
      "metadata": {
        "id": "ezPsE-dZpZAU",
        "colab": {
          "base_uri": "https://localhost:8080/",
          "height": 283
        },
        "outputId": "7e723894-61cc-4581-d241-a31c4baa4317"
      },
      "execution_count": null,
      "outputs": [
        {
          "output_type": "execute_result",
          "data": {
            "text/plain": [
              "<matplotlib.axes._subplots.AxesSubplot at 0x7f6f05a11650>"
            ]
          },
          "metadata": {},
          "execution_count": 35
        },
        {
          "output_type": "display_data",
          "data": {
            "text/plain": [
              "<Figure size 432x288 with 1 Axes>"
            ],
            "image/png": "[encoded data removed]"
          },
          "metadata": {
            "needs_background": "light"
          }
        }
      ]
    },
    {
      "cell_type": "code",
      "source": [
        "df.boxplot(column='Customer_care_calls')"
      ],
      "metadata": {
        "id": "bC7n7OcgsVT0",
        "colab": {
          "base_uri": "https://localhost:8080/",
          "height": 283
        },
        "outputId": "6128de41-3e55-4dff-ebfc-e4c1924d5716"
      },
      "execution_count": null,
      "outputs": [
        {
          "output_type": "execute_result",
          "data": {
            "text/plain": [
              "<matplotlib.axes._subplots.AxesSubplot at 0x7f6f059b3b90>"
            ]
          },
          "metadata": {},
          "execution_count": 36
        },
        {
          "output_type": "display_data",
          "data": {
            "text/plain": [
              "<Figure size 432x288 with 1 Axes>"
            ],
            "image/png": "[encoded data removed]"
          },
          "metadata": {
            "needs_background": "light"
          }
        }
      ]
    },
    {
      "cell_type": "markdown",
      "source": [
        "- Setelah kita amati pada 2 kolom diatas menggunakan boxplot, dapat diketahui bahwa pada kolom `Discount_offered` outliers tecetak tebal dari nilai 20 sampai 60 lebih yang mana outliers pada kolom tersebut akan berpengaruh pada proses pengolahan data dibandingkan kolom `Customer_care_calls` "
      ],
      "metadata": {
        "id": "hEXLD3QOtNCz"
      }
    },
    {
      "cell_type": "code",
      "source": [
        "plt.figure(figsize = (13, 5))\n",
        "sns.countplot('Customer_rating', hue = 'Reached.on.Time_Y.N', data = df, palette='rocket')\n",
        "plt.show()"
      ],
      "metadata": {
        "colab": {
          "base_uri": "https://localhost:8080/",
          "height": 330
        },
        "id": "kfgnpORmMia3",
        "outputId": "9127acc7-34c4-4e6f-eabb-e43d3c4a5d56"
      },
      "execution_count": null,
      "outputs": [
        {
          "output_type": "stream",
          "name": "stderr",
          "text": [
            "/usr/local/lib/python3.7/dist-packages/seaborn/_decorators.py:43: FutureWarning: Pass the following variable as a keyword arg: x. From version 0.12, the only valid positional argument will be `data`, and passing other arguments without an explicit keyword will result in an error or misinterpretation.\n",
            "  FutureWarning\n"
          ]
        },
        {
          "output_type": "display_data",
          "data": {
            "text/plain": [
              "<Figure size 936x360 with 1 Axes>"
            ],
            "image/png": "[encoded data removed]"
          },
          "metadata": {
            "needs_background": "light"
          }
        }
      ]
    },
    {
      "cell_type": "code",
      "source": [
        "plt.figure(figsize = (13, 5))\n",
        "sns.countplot('Customer_rating', hue = 'Customer_care_calls', data = df, palette='rocket')\n",
        "plt.show()"
      ],
      "metadata": {
        "colab": {
          "base_uri": "https://localhost:8080/",
          "height": 332
        },
        "id": "RzFnv8uHvsFF",
        "outputId": "b14dc342-5e1c-4a13-bda4-7afaafe56e32"
      },
      "execution_count": null,
      "outputs": [
        {
          "output_type": "stream",
          "name": "stderr",
          "text": [
            "/usr/local/lib/python3.7/dist-packages/seaborn/_decorators.py:43: FutureWarning: Pass the following variable as a keyword arg: x. From version 0.12, the only valid positional argument will be `data`, and passing other arguments without an explicit keyword will result in an error or misinterpretation.\n",
            "  FutureWarning\n"
          ]
        },
        {
          "output_type": "display_data",
          "data": {
            "text/plain": [
              "<Figure size 936x360 with 1 Axes>"
            ],
            "image/png": "[encoded data removed]"
          },
          "metadata": {
            "needs_background": "light"
          }
        }
      ]
    },
    {
      "cell_type": "code",
      "source": [
        "plt.figure(figsize = (13, 5))\n",
        "sns.countplot('Customer_rating', hue = 'Prior_purchases', data = df, palette='rocket')\n",
        "plt.show()"
      ],
      "metadata": {
        "colab": {
          "base_uri": "https://localhost:8080/",
          "height": 332
        },
        "id": "96StHNZjwHXz",
        "outputId": "39606525-6fb8-47db-b724-aea9d4e9fa0a"
      },
      "execution_count": null,
      "outputs": [
        {
          "output_type": "stream",
          "name": "stderr",
          "text": [
            "/usr/local/lib/python3.7/dist-packages/seaborn/_decorators.py:43: FutureWarning: Pass the following variable as a keyword arg: x. From version 0.12, the only valid positional argument will be `data`, and passing other arguments without an explicit keyword will result in an error or misinterpretation.\n",
            "  FutureWarning\n"
          ]
        },
        {
          "output_type": "display_data",
          "data": {
            "text/plain": [
              "<Figure size 936x360 with 1 Axes>"
            ],
            "image/png": "[encoded data removed]"
          },
          "metadata": {
            "needs_background": "light"
          }
        }
      ]
    },
    {
      "cell_type": "code",
      "source": [
        "cor = df.corr()\n",
        "plt.figure(figsize=(8,6))\n",
        "sns.heatmap(cor,annot=True,cmap='Purples')\n",
        "plt.show()"
      ],
      "metadata": {
        "id": "ZJ0MGqShMxyV",
        "colab": {
          "base_uri": "https://localhost:8080/",
          "height": 474
        },
        "outputId": "9c3c5ae8-7193-434e-954b-f4e5207505ae"
      },
      "execution_count": null,
      "outputs": [
        {
          "output_type": "display_data",
          "data": {
            "text/plain": [
              "<Figure size 576x432 with 2 Axes>"
            ],
            "image/png": "[encoded data removed]"
          },
          "metadata": {
            "needs_background": "light"
          }
        }
      ]
    },
    {
      "cell_type": "code",
      "source": [
        "# Setelah Cleaning\n",
        "cor = df.corr()\n",
        "plt.figure(figsize=(8,6))\n",
        "sns.heatmap(cor,annot=True,cmap='Purples')\n",
        "plt.show()"
      ],
      "metadata": {
        "id": "pGrd4EZaGe5P",
        "colab": {
          "base_uri": "https://localhost:8080/",
          "height": 474
        },
        "outputId": "3232e4bb-3285-42fd-a541-af5f4af3d37d"
      },
      "execution_count": null,
      "outputs": [
        {
          "output_type": "display_data",
          "data": {
            "text/plain": [
              "<Figure size 576x432 with 2 Axes>"
            ],
            "image/png": "[encoded data removed]"
          },
          "metadata": {
            "needs_background": "light"
          }
        }
      ]
    },
    {
      "cell_type": "markdown",
      "source": [
        "## Data Preparation"
      ],
      "metadata": {
        "id": "qGuAXWqcbSYe"
      }
    },
    {
      "cell_type": "markdown",
      "source": [
        "### Fill Missing Value from `Customer_care_calls` & `Discount_offered`"
      ],
      "metadata": {
        "id": "Xo_47IrqbNYn"
      }
    },
    {
      "cell_type": "markdown",
      "source": [
        "Mengisi value null pada column Customer care calls dan Discount offered dengan value rata-rata yang terdapat dari column masing-masing dengan nilai statis dari data awal yang telah ditentukan hingga data terakhir."
      ],
      "metadata": {
        "id": "BSpF56rUvVtb"
      }
    },
    {
      "cell_type": "code",
      "source": [
        "# Customer_care_calls\n",
        "rata_care = df['Customer_care_calls'].mean()\n",
        "df['Customer_care_calls'] = df['Customer_care_calls'].fillna(rata_care)\n",
        "df['Customer_care_calls'].isna().sum()"
      ],
      "metadata": {
        "id": "Oeuo_gtebfiv",
        "colab": {
          "base_uri": "https://localhost:8080/"
        },
        "outputId": "1971a862-90e3-4c4e-9abe-37e0a9b35b01"
      },
      "execution_count": null,
      "outputs": [
        {
          "output_type": "execute_result",
          "data": {
            "text/plain": [
              "0"
            ]
          },
          "metadata": {},
          "execution_count": 3
        }
      ]
    },
    {
      "cell_type": "code",
      "source": [
        "# Discount_offered\n",
        "rata_diskon = df['Discount_offered'].mean()\n",
        "df['Discount_offered'] = df['Discount_offered'].fillna(rata_diskon)\n",
        "df['Discount_offered'].isna().sum()"
      ],
      "metadata": {
        "id": "h-TZJHcDbXOJ",
        "colab": {
          "base_uri": "https://localhost:8080/"
        },
        "outputId": "0b23739b-e575-4d7b-e777-c1c5d0a85b3b"
      },
      "execution_count": null,
      "outputs": [
        {
          "output_type": "execute_result",
          "data": {
            "text/plain": [
              "0"
            ]
          },
          "metadata": {},
          "execution_count": 4
        }
      ]
    },
    {
      "cell_type": "code",
      "source": [
        "df.isnull().sum()"
      ],
      "metadata": {
        "colab": {
          "base_uri": "https://localhost:8080/"
        },
        "id": "kIUtGquBjRcB",
        "outputId": "2804e236-14d6-4c8f-d20d-1757d462306c"
      },
      "execution_count": null,
      "outputs": [
        {
          "output_type": "execute_result",
          "data": {
            "text/plain": [
              "ID                     0\n",
              "Warehouse_block        0\n",
              "Mode_of_Shipment       0\n",
              "Customer_care_calls    0\n",
              "Customer_rating        0\n",
              "Cost_of_the_Product    0\n",
              "Prior_purchases        0\n",
              "Product_importance     0\n",
              "Gender                 0\n",
              "Discount_offered       0\n",
              "Weight_in_gms          0\n",
              "Reached.on.Time_Y.N    0\n",
              "dtype: int64"
            ]
          },
          "metadata": {},
          "execution_count": 5
        }
      ]
    },
    {
      "cell_type": "markdown",
      "source": [
        "### Drop Data Duplicate\n",
        "\n",
        "Menghapus data duplikat agar tidak terjadi redudansi data"
      ],
      "metadata": {
        "id": "UyEwVcS3eKlp"
      }
    },
    {
      "cell_type": "code",
      "source": [
        "df = df.drop_duplicates()"
      ],
      "metadata": {
        "id": "87HsXQi3ePqO"
      },
      "execution_count": null,
      "outputs": []
    },
    {
      "cell_type": "code",
      "source": [
        "# Tampilan setelah dilakukan drop duplicate\n",
        "df[df.duplicated()]"
      ],
      "metadata": {
        "id": "-IzHq2RFea3e",
        "colab": {
          "base_uri": "https://localhost:8080/",
          "height": 113
        },
        "outputId": "cff02f6d-e20f-413f-85d4-71430474e095"
      },
      "execution_count": null,
      "outputs": [
        {
          "output_type": "execute_result",
          "data": {
            "text/plain": [
              "Empty DataFrame\n",
              "Columns: [ID, Warehouse_block, Mode_of_Shipment, Customer_care_calls, Customer_rating, Cost_of_the_Product, Prior_purchases, Product_importance, Gender, Discount_offered, Weight_in_gms, Reached.on.Time_Y.N]\n",
              "Index: []"
            ],
            "text/html": [
              "\n",
              "  <div id=\"df-12180c0a-fff0-49c0-94a8-af3995ad162c\">\n",
              "    <div class=\"colab-df-container\">\n",
              "      <div>\n",
              "<style scoped>\n",
              "    .dataframe tbody tr th:only-of-type {\n",
              "        vertical-align: middle;\n",
              "    }\n",
              "\n",
              "    .dataframe tbody tr th {\n",
              "        vertical-align: top;\n",
              "    }\n",
              "\n",
              "    .dataframe thead th {\n",
              "        text-align: right;\n",
              "    }\n",
              "</style>\n",
              "<table border=\"1\" class=\"dataframe\">\n",
              "  <thead>\n",
              "    <tr style=\"text-align: right;\">\n",
              "      <th></th>\n",
              "      <th>ID</th>\n",
              "      <th>Warehouse_block</th>\n",
              "      <th>Mode_of_Shipment</th>\n",
              "      <th>Customer_care_calls</th>\n",
              "      <th>Customer_rating</th>\n",
              "      <th>Cost_of_the_Product</th>\n",
              "      <th>Prior_purchases</th>\n",
              "      <th>Product_importance</th>\n",
              "      <th>Gender</th>\n",
              "      <th>Discount_offered</th>\n",
              "      <th>Weight_in_gms</th>\n",
              "      <th>Reached.on.Time_Y.N</th>\n",
              "    </tr>\n",
              "  </thead>\n",
              "  <tbody>\n",
              "  </tbody>\n",
              "</table>\n",
              "</div>\n",
              "      <button class=\"colab-df-convert\" onclick=\"convertToInteractive('df-12180c0a-fff0-49c0-94a8-af3995ad162c')\"\n",
              "              title=\"Convert this dataframe to an interactive table.\"\n",
              "              style=\"display:none;\">\n",
              "        \n",
              "  <svg xmlns=\"http://www.w3.org/2000/svg\" height=\"24px\"viewBox=\"0 0 24 24\"\n",
              "       width=\"24px\">\n",
              "    <path d=\"M0 0h24v24H0V0z\" fill=\"none\"/>\n",
              "    <path d=\"M18.56 5.44l.94 2.06.94-2.06 2.06-.94-2.06-.94-.94-2.06-.94 2.06-2.06.94zm-11 1L8.5 8.5l.94-2.06 2.06-.94-2.06-.94L8.5 2.5l-.94 2.06-2.06.94zm10 10l.94 2.06.94-2.06 2.06-.94-2.06-.94-.94-2.06-.94 2.06-2.06.94z\"/><path d=\"M17.41 7.96l-1.37-1.37c-.4-.4-.92-.59-1.43-.59-.52 0-1.04.2-1.43.59L10.3 9.45l-7.72 7.72c-.78.78-.78 2.05 0 2.83L4 21.41c.39.39.9.59 1.41.59.51 0 1.02-.2 1.41-.59l7.78-7.78 2.81-2.81c.8-.78.8-2.07 0-2.86zM5.41 20L4 18.59l7.72-7.72 1.47 1.35L5.41 20z\"/>\n",
              "  </svg>\n",
              "      </button>\n",
              "      \n",
              "  <style>\n",
              "    .colab-df-container {\n",
              "      display:flex;\n",
              "      flex-wrap:wrap;\n",
              "      gap: 12px;\n",
              "    }\n",
              "\n",
              "    .colab-df-convert {\n",
              "      background-color: #E8F0FE;\n",
              "      border: none;\n",
              "      border-radius: 50%;\n",
              "      cursor: pointer;\n",
              "      display: none;\n",
              "      fill: #1967D2;\n",
              "      height: 32px;\n",
              "      padding: 0 0 0 0;\n",
              "      width: 32px;\n",
              "    }\n",
              "\n",
              "    .colab-df-convert:hover {\n",
              "      background-color: #E2EBFA;\n",
              "      box-shadow: 0px 1px 2px rgba(60, 64, 67, 0.3), 0px 1px 3px 1px rgba(60, 64, 67, 0.15);\n",
              "      fill: #174EA6;\n",
              "    }\n",
              "\n",
              "    [theme=dark] .colab-df-convert {\n",
              "      background-color: #3B4455;\n",
              "      fill: #D2E3FC;\n",
              "    }\n",
              "\n",
              "    [theme=dark] .colab-df-convert:hover {\n",
              "      background-color: #434B5C;\n",
              "      box-shadow: 0px 1px 3px 1px rgba(0, 0, 0, 0.15);\n",
              "      filter: drop-shadow(0px 1px 2px rgba(0, 0, 0, 0.3));\n",
              "      fill: #FFFFFF;\n",
              "    }\n",
              "  </style>\n",
              "\n",
              "      <script>\n",
              "        const buttonEl =\n",
              "          document.querySelector('#df-12180c0a-fff0-49c0-94a8-af3995ad162c button.colab-df-convert');\n",
              "        buttonEl.style.display =\n",
              "          google.colab.kernel.accessAllowed ? 'block' : 'none';\n",
              "\n",
              "        async function convertToInteractive(key) {\n",
              "          const element = document.querySelector('#df-12180c0a-fff0-49c0-94a8-af3995ad162c');\n",
              "          const dataTable =\n",
              "            await google.colab.kernel.invokeFunction('convertToInteractive',\n",
              "                                                     [key], {});\n",
              "          if (!dataTable) return;\n",
              "\n",
              "          const docLinkHtml = 'Like what you see? Visit the ' +\n",
              "            '<a target=\"_blank\" href=https://colab.research.google.com/notebooks/data_table.ipynb>data table notebook</a>'\n",
              "            + ' to learn more about interactive tables.';\n",
              "          element.innerHTML = '';\n",
              "          dataTable['output_type'] = 'display_data';\n",
              "          await google.colab.output.renderOutput(dataTable, element);\n",
              "          const docLink = document.createElement('div');\n",
              "          docLink.innerHTML = docLinkHtml;\n",
              "          element.appendChild(docLink);\n",
              "        }\n",
              "      </script>\n",
              "    </div>\n",
              "  </div>\n",
              "  "
            ]
          },
          "metadata": {},
          "execution_count": 7
        }
      ]
    },
    {
      "cell_type": "markdown",
      "source": [
        "### Fix `Female` & `Male` Replace to `F` & `M`\n",
        "\n",
        "Terdapat kata `Female` & `Male` pada dataset yang seharusnya tercetak `F` & `M`"
      ],
      "metadata": {
        "id": "uwanciBvehnB"
      }
    },
    {
      "cell_type": "code",
      "source": [
        "df['Gender'] = df['Gender'].str.replace(\"Female\",\"F\")\n",
        "df['Gender'] = df['Gender'].str.replace(\"Male\",\"M\")"
      ],
      "metadata": {
        "id": "ydo4mFRgewDY"
      },
      "execution_count": null,
      "outputs": []
    },
    {
      "cell_type": "code",
      "source": [
        "# Tampilan isi kolom setelah dilakukan inisialisasi ulang\n",
        "df.Gender.unique()"
      ],
      "metadata": {
        "id": "_x8rV1uxey-2",
        "colab": {
          "base_uri": "https://localhost:8080/"
        },
        "outputId": "cec3b9d6-78ba-4afa-de1f-9406c4b1f45a"
      },
      "execution_count": null,
      "outputs": [
        {
          "output_type": "execute_result",
          "data": {
            "text/plain": [
              "array(['F', 'M'], dtype=object)"
            ]
          },
          "metadata": {},
          "execution_count": 9
        }
      ]
    },
    {
      "cell_type": "markdown",
      "source": [
        "### Cleaning Outliers `Cost_of_the_Product` dengan Metode IQR"
      ],
      "metadata": {
        "id": "dsPgiAE761qu"
      }
    },
    {
      "cell_type": "markdown",
      "source": [
        "Terdapat outliers yang tinggi dari kolom tersebut yang dapat menyebabkan anomali data"
      ],
      "metadata": {
        "id": "G_FDoO79AqNL"
      }
    },
    {
      "cell_type": "code",
      "source": [
        "df.describe()"
      ],
      "metadata": {
        "colab": {
          "base_uri": "https://localhost:8080/",
          "height": 300
        },
        "id": "o9Olt90N_wu_",
        "outputId": "05fb5511-2e37-4aa5-c559-861e341a6cdd"
      },
      "execution_count": null,
      "outputs": [
        {
          "output_type": "execute_result",
          "data": {
            "text/plain": [
              "                ID  Customer_care_calls  Customer_rating  Cost_of_the_Product  \\\n",
              "count  10999.00000         10999.000000     10999.000000         1.099900e+04   \n",
              "mean    5500.00000             4.052655         2.990545         9.301724e+03   \n",
              "std     3175.28214             1.139863         1.413603         3.013953e+05   \n",
              "min        1.00000             2.000000         1.000000         9.600000e+01   \n",
              "25%     2750.50000             3.000000         2.000000         1.695000e+02   \n",
              "50%     5500.00000             4.000000         3.000000         2.140000e+02   \n",
              "75%     8249.50000             5.000000         4.000000         2.510000e+02   \n",
              "max    10999.00000             7.000000         5.000000         1.000000e+07   \n",
              "\n",
              "       Prior_purchases  Discount_offered  Weight_in_gms  Reached.on.Time_Y.N  \n",
              "count     10999.000000      10999.000000   10999.000000         10999.000000  \n",
              "mean          3.567597         13.187615    3634.016729             0.598600  \n",
              "std           1.522860         15.995925    1635.377251             0.494084  \n",
              "min           2.000000          1.000000    1001.000000             0.000000  \n",
              "25%           3.000000          4.000000    1839.500000             0.000000  \n",
              "50%           3.000000          7.000000    4149.000000             1.000000  \n",
              "75%           4.000000         10.000000    5050.000000             1.000000  \n",
              "max          10.000000         65.000000    7846.000000             3.000000  "
            ],
            "text/html": [
              "\n",
              "  <div id=\"df-b656cbb0-2c1e-48c9-9ff7-c8b076d59656\">\n",
              "    <div class=\"colab-df-container\">\n",
              "      <div>\n",
              "<style scoped>\n",
              "    .dataframe tbody tr th:only-of-type {\n",
              "        vertical-align: middle;\n",
              "    }\n",
              "\n",
              "    .dataframe tbody tr th {\n",
              "        vertical-align: top;\n",
              "    }\n",
              "\n",
              "    .dataframe thead th {\n",
              "        text-align: right;\n",
              "    }\n",
              "</style>\n",
              "<table border=\"1\" class=\"dataframe\">\n",
              "  <thead>\n",
              "    <tr style=\"text-align: right;\">\n",
              "      <th></th>\n",
              "      <th>ID</th>\n",
              "      <th>Customer_care_calls</th>\n",
              "      <th>Customer_rating</th>\n",
              "      <th>Cost_of_the_Product</th>\n",
              "      <th>Prior_purchases</th>\n",
              "      <th>Discount_offered</th>\n",
              "      <th>Weight_in_gms</th>\n",
              "      <th>Reached.on.Time_Y.N</th>\n",
              "    </tr>\n",
              "  </thead>\n",
              "  <tbody>\n",
              "    <tr>\n",
              "      <th>count</th>\n",
              "      <td>10999.00000</td>\n",
              "      <td>10999.000000</td>\n",
              "      <td>10999.000000</td>\n",
              "      <td>1.099900e+04</td>\n",
              "      <td>10999.000000</td>\n",
              "      <td>10999.000000</td>\n",
              "      <td>10999.000000</td>\n",
              "      <td>10999.000000</td>\n",
              "    </tr>\n",
              "    <tr>\n",
              "      <th>mean</th>\n",
              "      <td>5500.00000</td>\n",
              "      <td>4.052655</td>\n",
              "      <td>2.990545</td>\n",
              "      <td>9.301724e+03</td>\n",
              "      <td>3.567597</td>\n",
              "      <td>13.187615</td>\n",
              "      <td>3634.016729</td>\n",
              "      <td>0.598600</td>\n",
              "    </tr>\n",
              "    <tr>\n",
              "      <th>std</th>\n",
              "      <td>3175.28214</td>\n",
              "      <td>1.139863</td>\n",
              "      <td>1.413603</td>\n",
              "      <td>3.013953e+05</td>\n",
              "      <td>1.522860</td>\n",
              "      <td>15.995925</td>\n",
              "      <td>1635.377251</td>\n",
              "      <td>0.494084</td>\n",
              "    </tr>\n",
              "    <tr>\n",
              "      <th>min</th>\n",
              "      <td>1.00000</td>\n",
              "      <td>2.000000</td>\n",
              "      <td>1.000000</td>\n",
              "      <td>9.600000e+01</td>\n",
              "      <td>2.000000</td>\n",
              "      <td>1.000000</td>\n",
              "      <td>1001.000000</td>\n",
              "      <td>0.000000</td>\n",
              "    </tr>\n",
              "    <tr>\n",
              "      <th>25%</th>\n",
              "      <td>2750.50000</td>\n",
              "      <td>3.000000</td>\n",
              "      <td>2.000000</td>\n",
              "      <td>1.695000e+02</td>\n",
              "      <td>3.000000</td>\n",
              "      <td>4.000000</td>\n",
              "      <td>1839.500000</td>\n",
              "      <td>0.000000</td>\n",
              "    </tr>\n",
              "    <tr>\n",
              "      <th>50%</th>\n",
              "      <td>5500.00000</td>\n",
              "      <td>4.000000</td>\n",
              "      <td>3.000000</td>\n",
              "      <td>2.140000e+02</td>\n",
              "      <td>3.000000</td>\n",
              "      <td>7.000000</td>\n",
              "      <td>4149.000000</td>\n",
              "      <td>1.000000</td>\n",
              "    </tr>\n",
              "    <tr>\n",
              "      <th>75%</th>\n",
              "      <td>8249.50000</td>\n",
              "      <td>5.000000</td>\n",
              "      <td>4.000000</td>\n",
              "      <td>2.510000e+02</td>\n",
              "      <td>4.000000</td>\n",
              "      <td>10.000000</td>\n",
              "      <td>5050.000000</td>\n",
              "      <td>1.000000</td>\n",
              "    </tr>\n",
              "    <tr>\n",
              "      <th>max</th>\n",
              "      <td>10999.00000</td>\n",
              "      <td>7.000000</td>\n",
              "      <td>5.000000</td>\n",
              "      <td>1.000000e+07</td>\n",
              "      <td>10.000000</td>\n",
              "      <td>65.000000</td>\n",
              "      <td>7846.000000</td>\n",
              "      <td>3.000000</td>\n",
              "    </tr>\n",
              "  </tbody>\n",
              "</table>\n",
              "</div>\n",
              "      <button class=\"colab-df-convert\" onclick=\"convertToInteractive('df-b656cbb0-2c1e-48c9-9ff7-c8b076d59656')\"\n",
              "              title=\"Convert this dataframe to an interactive table.\"\n",
              "              style=\"display:none;\">\n",
              "        \n",
              "  <svg xmlns=\"http://www.w3.org/2000/svg\" height=\"24px\"viewBox=\"0 0 24 24\"\n",
              "       width=\"24px\">\n",
              "    <path d=\"M0 0h24v24H0V0z\" fill=\"none\"/>\n",
              "    <path d=\"M18.56 5.44l.94 2.06.94-2.06 2.06-.94-2.06-.94-.94-2.06-.94 2.06-2.06.94zm-11 1L8.5 8.5l.94-2.06 2.06-.94-2.06-.94L8.5 2.5l-.94 2.06-2.06.94zm10 10l.94 2.06.94-2.06 2.06-.94-2.06-.94-.94-2.06-.94 2.06-2.06.94z\"/><path d=\"M17.41 7.96l-1.37-1.37c-.4-.4-.92-.59-1.43-.59-.52 0-1.04.2-1.43.59L10.3 9.45l-7.72 7.72c-.78.78-.78 2.05 0 2.83L4 21.41c.39.39.9.59 1.41.59.51 0 1.02-.2 1.41-.59l7.78-7.78 2.81-2.81c.8-.78.8-2.07 0-2.86zM5.41 20L4 18.59l7.72-7.72 1.47 1.35L5.41 20z\"/>\n",
              "  </svg>\n",
              "      </button>\n",
              "      \n",
              "  <style>\n",
              "    .colab-df-container {\n",
              "      display:flex;\n",
              "      flex-wrap:wrap;\n",
              "      gap: 12px;\n",
              "    }\n",
              "\n",
              "    .colab-df-convert {\n",
              "      background-color: #E8F0FE;\n",
              "      border: none;\n",
              "      border-radius: 50%;\n",
              "      cursor: pointer;\n",
              "      display: none;\n",
              "      fill: #1967D2;\n",
              "      height: 32px;\n",
              "      padding: 0 0 0 0;\n",
              "      width: 32px;\n",
              "    }\n",
              "\n",
              "    .colab-df-convert:hover {\n",
              "      background-color: #E2EBFA;\n",
              "      box-shadow: 0px 1px 2px rgba(60, 64, 67, 0.3), 0px 1px 3px 1px rgba(60, 64, 67, 0.15);\n",
              "      fill: #174EA6;\n",
              "    }\n",
              "\n",
              "    [theme=dark] .colab-df-convert {\n",
              "      background-color: #3B4455;\n",
              "      fill: #D2E3FC;\n",
              "    }\n",
              "\n",
              "    [theme=dark] .colab-df-convert:hover {\n",
              "      background-color: #434B5C;\n",
              "      box-shadow: 0px 1px 3px 1px rgba(0, 0, 0, 0.15);\n",
              "      filter: drop-shadow(0px 1px 2px rgba(0, 0, 0, 0.3));\n",
              "      fill: #FFFFFF;\n",
              "    }\n",
              "  </style>\n",
              "\n",
              "      <script>\n",
              "        const buttonEl =\n",
              "          document.querySelector('#df-b656cbb0-2c1e-48c9-9ff7-c8b076d59656 button.colab-df-convert');\n",
              "        buttonEl.style.display =\n",
              "          google.colab.kernel.accessAllowed ? 'block' : 'none';\n",
              "\n",
              "        async function convertToInteractive(key) {\n",
              "          const element = document.querySelector('#df-b656cbb0-2c1e-48c9-9ff7-c8b076d59656');\n",
              "          const dataTable =\n",
              "            await google.colab.kernel.invokeFunction('convertToInteractive',\n",
              "                                                     [key], {});\n",
              "          if (!dataTable) return;\n",
              "\n",
              "          const docLinkHtml = 'Like what you see? Visit the ' +\n",
              "            '<a target=\"_blank\" href=https://colab.research.google.com/notebooks/data_table.ipynb>data table notebook</a>'\n",
              "            + ' to learn more about interactive tables.';\n",
              "          element.innerHTML = '';\n",
              "          dataTable['output_type'] = 'display_data';\n",
              "          await google.colab.output.renderOutput(dataTable, element);\n",
              "          const docLink = document.createElement('div');\n",
              "          docLink.innerHTML = docLinkHtml;\n",
              "          element.appendChild(docLink);\n",
              "        }\n",
              "      </script>\n",
              "    </div>\n",
              "  </div>\n",
              "  "
            ]
          },
          "metadata": {},
          "execution_count": 10
        }
      ]
    },
    {
      "cell_type": "code",
      "source": [
        "q1 = df['Cost_of_the_Product'].quantile(0.25)\n",
        "q3 = df['Cost_of_the_Product'].quantile(0.75)\n",
        "upper_limit = q3 + 1.5 * (q3-q1)\n",
        "lower_limit = q1 - 1.5 * (q3-q1)"
      ],
      "metadata": {
        "id": "V67dqu9jyM59"
      },
      "execution_count": null,
      "outputs": []
    },
    {
      "cell_type": "code",
      "source": [
        "df = df[df['Cost_of_the_Product'] > lower_limit]\n",
        "df = df[df['Cost_of_the_Product'] < upper_limit]"
      ],
      "metadata": {
        "id": "tXimnDj1yM59"
      },
      "execution_count": null,
      "outputs": []
    },
    {
      "cell_type": "code",
      "source": [
        "# Tampilan isi kolom setelah dilakukan inisialisasi ulang\n",
        "\n",
        "df['Cost_of_the_Product'].unique()"
      ],
      "metadata": {
        "colab": {
          "base_uri": "https://localhost:8080/"
        },
        "id": "DOa836WS9Pvd",
        "outputId": "ec691d37-b99b-49ad-ec7d-c7c6a02ac36a"
      },
      "execution_count": null,
      "outputs": [
        {
          "output_type": "execute_result",
          "data": {
            "text/plain": [
              "array([177, 216, 183, 176, 184, 162, 250, 233, 150, 164, 189, 232, 198,\n",
              "       275, 152, 227, 143, 239, 145, 161, 156, 211, 251, 225, 172, 234,\n",
              "       266, 257, 223, 149, 137, 181, 215, 269, 139, 174, 151, 210, 169,\n",
              "       160, 190, 141, 165, 170, 203, 246, 238, 193, 221, 179, 105, 261,\n",
              "       202, 109, 158, 231, 206, 187, 230, 113, 180, 132, 217, 197, 185,\n",
              "       278, 229, 186, 286, 175, 219, 213, 235, 271, 144, 218, 263, 168,\n",
              "       265, 205, 252, 222, 220, 147, 200, 224, 247, 280, 157, 207, 237,\n",
              "       264, 248, 191, 146, 135,  98,  97, 114, 112, 274, 166, 148, 270,\n",
              "       242, 192, 116, 255, 209, 134, 130, 133, 140, 136, 142, 154, 155,\n",
              "       127, 129, 159, 294, 226, 258, 241, 208, 182, 115, 212, 171, 249,\n",
              "       243, 163, 272, 138, 273, 279, 173, 194, 262, 201, 260, 188, 267,\n",
              "       131, 122, 103, 199, 236, 167, 259, 178, 123, 124,  96, 244, 254,\n",
              "       128, 204, 245, 228, 268, 108, 276, 214, 281, 253, 104, 240, 121,\n",
              "       153, 111, 117, 195, 110, 119, 196, 291, 118, 283, 100, 256, 285,\n",
              "       284, 101, 296, 277, 106, 282, 126, 102, 120,  99, 125, 107, 301,\n",
              "       290, 310, 308, 300, 303, 306, 292, 293, 295, 304, 298, 305, 287,\n",
              "       309, 302, 307, 289, 297, 299, 288])"
            ]
          },
          "metadata": {},
          "execution_count": 13
        }
      ]
    },
    {
      "cell_type": "code",
      "source": [
        "# Fix Data type Customer_care_calls from Float to Int\n",
        "df['Customer_care_calls'] = df['Customer_care_calls'].astype('int')"
      ],
      "metadata": {
        "id": "CORzRsm1DYL0"
      },
      "execution_count": null,
      "outputs": []
    },
    {
      "cell_type": "code",
      "source": [
        "# Tampilan isi kolom setelah dilakukan inisialisasi ulang\n",
        "\n",
        "df['Customer_care_calls'].unique()"
      ],
      "metadata": {
        "colab": {
          "base_uri": "https://localhost:8080/"
        },
        "id": "MlKqaTNACnMb",
        "outputId": "1e246163-25dd-4571-f992-37d251e14a47"
      },
      "execution_count": null,
      "outputs": [
        {
          "output_type": "execute_result",
          "data": {
            "text/plain": [
              "array([4, 2, 3, 5, 6, 7])"
            ]
          },
          "metadata": {},
          "execution_count": 15
        }
      ]
    },
    {
      "cell_type": "code",
      "source": [
        "df.info()"
      ],
      "metadata": {
        "colab": {
          "base_uri": "https://localhost:8080/"
        },
        "id": "IPHFlgHPDNv7",
        "outputId": "e7a2e6a0-2fc5-4fcb-947d-2dedfe368cf5"
      },
      "execution_count": null,
      "outputs": [
        {
          "output_type": "stream",
          "name": "stdout",
          "text": [
            "<class 'pandas.core.frame.DataFrame'>\n",
            "Int64Index: 10967 entries, 0 to 10994\n",
            "Data columns (total 12 columns):\n",
            " #   Column               Non-Null Count  Dtype  \n",
            "---  ------               --------------  -----  \n",
            " 0   ID                   10967 non-null  int64  \n",
            " 1   Warehouse_block      10967 non-null  object \n",
            " 2   Mode_of_Shipment     10967 non-null  object \n",
            " 3   Customer_care_calls  10967 non-null  int64  \n",
            " 4   Customer_rating      10967 non-null  int64  \n",
            " 5   Cost_of_the_Product  10967 non-null  int64  \n",
            " 6   Prior_purchases      10967 non-null  int64  \n",
            " 7   Product_importance   10967 non-null  object \n",
            " 8   Gender               10967 non-null  object \n",
            " 9   Discount_offered     10967 non-null  float64\n",
            " 10  Weight_in_gms        10967 non-null  int64  \n",
            " 11  Reached.on.Time_Y.N  10967 non-null  int64  \n",
            "dtypes: float64(1), int64(7), object(4)\n",
            "memory usage: 1.1+ MB\n"
          ]
        }
      ]
    },
    {
      "cell_type": "code",
      "source": [
        "# Outliers pada kolom Warehouse_block\n",
        "df[df.Warehouse_block == 'ZX']"
      ],
      "metadata": {
        "colab": {
          "base_uri": "https://localhost:8080/",
          "height": 113
        },
        "id": "McIEPou88NpF",
        "outputId": "cc5a6c6d-0484-4285-89c7-3c241a7a1de1"
      },
      "execution_count": null,
      "outputs": [
        {
          "output_type": "execute_result",
          "data": {
            "text/plain": [
              "Empty DataFrame\n",
              "Columns: [ID, Warehouse_block, Mode_of_Shipment, Customer_care_calls, Customer_rating, Cost_of_the_Product, Prior_purchases, Product_importance, Gender, Discount_offered, Weight_in_gms, Reached.on.Time_Y.N]\n",
              "Index: []"
            ],
            "text/html": [
              "\n",
              "  <div id=\"df-0a573145-0b1f-4874-8860-eec80b006313\">\n",
              "    <div class=\"colab-df-container\">\n",
              "      <div>\n",
              "<style scoped>\n",
              "    .dataframe tbody tr th:only-of-type {\n",
              "        vertical-align: middle;\n",
              "    }\n",
              "\n",
              "    .dataframe tbody tr th {\n",
              "        vertical-align: top;\n",
              "    }\n",
              "\n",
              "    .dataframe thead th {\n",
              "        text-align: right;\n",
              "    }\n",
              "</style>\n",
              "<table border=\"1\" class=\"dataframe\">\n",
              "  <thead>\n",
              "    <tr style=\"text-align: right;\">\n",
              "      <th></th>\n",
              "      <th>ID</th>\n",
              "      <th>Warehouse_block</th>\n",
              "      <th>Mode_of_Shipment</th>\n",
              "      <th>Customer_care_calls</th>\n",
              "      <th>Customer_rating</th>\n",
              "      <th>Cost_of_the_Product</th>\n",
              "      <th>Prior_purchases</th>\n",
              "      <th>Product_importance</th>\n",
              "      <th>Gender</th>\n",
              "      <th>Discount_offered</th>\n",
              "      <th>Weight_in_gms</th>\n",
              "      <th>Reached.on.Time_Y.N</th>\n",
              "    </tr>\n",
              "  </thead>\n",
              "  <tbody>\n",
              "  </tbody>\n",
              "</table>\n",
              "</div>\n",
              "      <button class=\"colab-df-convert\" onclick=\"convertToInteractive('df-0a573145-0b1f-4874-8860-eec80b006313')\"\n",
              "              title=\"Convert this dataframe to an interactive table.\"\n",
              "              style=\"display:none;\">\n",
              "        \n",
              "  <svg xmlns=\"http://www.w3.org/2000/svg\" height=\"24px\"viewBox=\"0 0 24 24\"\n",
              "       width=\"24px\">\n",
              "    <path d=\"M0 0h24v24H0V0z\" fill=\"none\"/>\n",
              "    <path d=\"M18.56 5.44l.94 2.06.94-2.06 2.06-.94-2.06-.94-.94-2.06-.94 2.06-2.06.94zm-11 1L8.5 8.5l.94-2.06 2.06-.94-2.06-.94L8.5 2.5l-.94 2.06-2.06.94zm10 10l.94 2.06.94-2.06 2.06-.94-2.06-.94-.94-2.06-.94 2.06-2.06.94z\"/><path d=\"M17.41 7.96l-1.37-1.37c-.4-.4-.92-.59-1.43-.59-.52 0-1.04.2-1.43.59L10.3 9.45l-7.72 7.72c-.78.78-.78 2.05 0 2.83L4 21.41c.39.39.9.59 1.41.59.51 0 1.02-.2 1.41-.59l7.78-7.78 2.81-2.81c.8-.78.8-2.07 0-2.86zM5.41 20L4 18.59l7.72-7.72 1.47 1.35L5.41 20z\"/>\n",
              "  </svg>\n",
              "      </button>\n",
              "      \n",
              "  <style>\n",
              "    .colab-df-container {\n",
              "      display:flex;\n",
              "      flex-wrap:wrap;\n",
              "      gap: 12px;\n",
              "    }\n",
              "\n",
              "    .colab-df-convert {\n",
              "      background-color: #E8F0FE;\n",
              "      border: none;\n",
              "      border-radius: 50%;\n",
              "      cursor: pointer;\n",
              "      display: none;\n",
              "      fill: #1967D2;\n",
              "      height: 32px;\n",
              "      padding: 0 0 0 0;\n",
              "      width: 32px;\n",
              "    }\n",
              "\n",
              "    .colab-df-convert:hover {\n",
              "      background-color: #E2EBFA;\n",
              "      box-shadow: 0px 1px 2px rgba(60, 64, 67, 0.3), 0px 1px 3px 1px rgba(60, 64, 67, 0.15);\n",
              "      fill: #174EA6;\n",
              "    }\n",
              "\n",
              "    [theme=dark] .colab-df-convert {\n",
              "      background-color: #3B4455;\n",
              "      fill: #D2E3FC;\n",
              "    }\n",
              "\n",
              "    [theme=dark] .colab-df-convert:hover {\n",
              "      background-color: #434B5C;\n",
              "      box-shadow: 0px 1px 3px 1px rgba(0, 0, 0, 0.15);\n",
              "      filter: drop-shadow(0px 1px 2px rgba(0, 0, 0, 0.3));\n",
              "      fill: #FFFFFF;\n",
              "    }\n",
              "  </style>\n",
              "\n",
              "      <script>\n",
              "        const buttonEl =\n",
              "          document.querySelector('#df-0a573145-0b1f-4874-8860-eec80b006313 button.colab-df-convert');\n",
              "        buttonEl.style.display =\n",
              "          google.colab.kernel.accessAllowed ? 'block' : 'none';\n",
              "\n",
              "        async function convertToInteractive(key) {\n",
              "          const element = document.querySelector('#df-0a573145-0b1f-4874-8860-eec80b006313');\n",
              "          const dataTable =\n",
              "            await google.colab.kernel.invokeFunction('convertToInteractive',\n",
              "                                                     [key], {});\n",
              "          if (!dataTable) return;\n",
              "\n",
              "          const docLinkHtml = 'Like what you see? Visit the ' +\n",
              "            '<a target=\"_blank\" href=https://colab.research.google.com/notebooks/data_table.ipynb>data table notebook</a>'\n",
              "            + ' to learn more about interactive tables.';\n",
              "          element.innerHTML = '';\n",
              "          dataTable['output_type'] = 'display_data';\n",
              "          await google.colab.output.renderOutput(dataTable, element);\n",
              "          const docLink = document.createElement('div');\n",
              "          docLink.innerHTML = docLinkHtml;\n",
              "          element.appendChild(docLink);\n",
              "        }\n",
              "      </script>\n",
              "    </div>\n",
              "  </div>\n",
              "  "
            ]
          },
          "metadata": {},
          "execution_count": 24
        }
      ]
    },
    {
      "cell_type": "code",
      "source": [
        "# Drop yang memiliki value 'ZX' pada kolom Warehouse_block \n",
        "\n",
        "df.drop(df[df['Warehouse_block'] == 'ZX'].index, inplace = True)"
      ],
      "metadata": {
        "id": "UjY0GayTGdvz"
      },
      "execution_count": null,
      "outputs": []
    },
    {
      "cell_type": "code",
      "source": [
        "# Tampilan isi kolom setelah dilakukan inisialisasi ulang\n",
        "\n",
        "df['Warehouse_block'].unique()"
      ],
      "metadata": {
        "colab": {
          "base_uri": "https://localhost:8080/"
        },
        "id": "z_508wiRGLk4",
        "outputId": "0d03395c-c7dd-4a2e-e0fa-dbaf54e78bc4"
      },
      "execution_count": null,
      "outputs": [
        {
          "output_type": "execute_result",
          "data": {
            "text/plain": [
              "array(['D', 'F', 'A', 'B', 'C', 'ZX'], dtype=object)"
            ]
          },
          "metadata": {},
          "execution_count": 21
        }
      ]
    },
    {
      "cell_type": "code",
      "source": [
        "# Outliers pada kolom Reached.on.Time_Y.N\n",
        "df[df['Reached.on.Time_Y.N'] == 3]"
      ],
      "metadata": {
        "colab": {
          "base_uri": "https://localhost:8080/",
          "height": 113
        },
        "id": "fhzVhCoHFVdA",
        "outputId": "bbd216e2-3194-4edd-d952-4fc48f3685f5"
      },
      "execution_count": null,
      "outputs": [
        {
          "output_type": "execute_result",
          "data": {
            "text/plain": [
              "Empty DataFrame\n",
              "Columns: [ID, Warehouse_block, Mode_of_Shipment, Customer_care_calls, Customer_rating, Cost_of_the_Product, Prior_purchases, Product_importance, Gender, Discount_offered, Weight_in_gms, Reached.on.Time_Y.N]\n",
              "Index: []"
            ],
            "text/html": [
              "\n",
              "  <div id=\"df-a08674da-a462-42ec-8461-3db5a9c87431\">\n",
              "    <div class=\"colab-df-container\">\n",
              "      <div>\n",
              "<style scoped>\n",
              "    .dataframe tbody tr th:only-of-type {\n",
              "        vertical-align: middle;\n",
              "    }\n",
              "\n",
              "    .dataframe tbody tr th {\n",
              "        vertical-align: top;\n",
              "    }\n",
              "\n",
              "    .dataframe thead th {\n",
              "        text-align: right;\n",
              "    }\n",
              "</style>\n",
              "<table border=\"1\" class=\"dataframe\">\n",
              "  <thead>\n",
              "    <tr style=\"text-align: right;\">\n",
              "      <th></th>\n",
              "      <th>ID</th>\n",
              "      <th>Warehouse_block</th>\n",
              "      <th>Mode_of_Shipment</th>\n",
              "      <th>Customer_care_calls</th>\n",
              "      <th>Customer_rating</th>\n",
              "      <th>Cost_of_the_Product</th>\n",
              "      <th>Prior_purchases</th>\n",
              "      <th>Product_importance</th>\n",
              "      <th>Gender</th>\n",
              "      <th>Discount_offered</th>\n",
              "      <th>Weight_in_gms</th>\n",
              "      <th>Reached.on.Time_Y.N</th>\n",
              "    </tr>\n",
              "  </thead>\n",
              "  <tbody>\n",
              "  </tbody>\n",
              "</table>\n",
              "</div>\n",
              "      <button class=\"colab-df-convert\" onclick=\"convertToInteractive('df-a08674da-a462-42ec-8461-3db5a9c87431')\"\n",
              "              title=\"Convert this dataframe to an interactive table.\"\n",
              "              style=\"display:none;\">\n",
              "        \n",
              "  <svg xmlns=\"http://www.w3.org/2000/svg\" height=\"24px\"viewBox=\"0 0 24 24\"\n",
              "       width=\"24px\">\n",
              "    <path d=\"M0 0h24v24H0V0z\" fill=\"none\"/>\n",
              "    <path d=\"M18.56 5.44l.94 2.06.94-2.06 2.06-.94-2.06-.94-.94-2.06-.94 2.06-2.06.94zm-11 1L8.5 8.5l.94-2.06 2.06-.94-2.06-.94L8.5 2.5l-.94 2.06-2.06.94zm10 10l.94 2.06.94-2.06 2.06-.94-2.06-.94-.94-2.06-.94 2.06-2.06.94z\"/><path d=\"M17.41 7.96l-1.37-1.37c-.4-.4-.92-.59-1.43-.59-.52 0-1.04.2-1.43.59L10.3 9.45l-7.72 7.72c-.78.78-.78 2.05 0 2.83L4 21.41c.39.39.9.59 1.41.59.51 0 1.02-.2 1.41-.59l7.78-7.78 2.81-2.81c.8-.78.8-2.07 0-2.86zM5.41 20L4 18.59l7.72-7.72 1.47 1.35L5.41 20z\"/>\n",
              "  </svg>\n",
              "      </button>\n",
              "      \n",
              "  <style>\n",
              "    .colab-df-container {\n",
              "      display:flex;\n",
              "      flex-wrap:wrap;\n",
              "      gap: 12px;\n",
              "    }\n",
              "\n",
              "    .colab-df-convert {\n",
              "      background-color: #E8F0FE;\n",
              "      border: none;\n",
              "      border-radius: 50%;\n",
              "      cursor: pointer;\n",
              "      display: none;\n",
              "      fill: #1967D2;\n",
              "      height: 32px;\n",
              "      padding: 0 0 0 0;\n",
              "      width: 32px;\n",
              "    }\n",
              "\n",
              "    .colab-df-convert:hover {\n",
              "      background-color: #E2EBFA;\n",
              "      box-shadow: 0px 1px 2px rgba(60, 64, 67, 0.3), 0px 1px 3px 1px rgba(60, 64, 67, 0.15);\n",
              "      fill: #174EA6;\n",
              "    }\n",
              "\n",
              "    [theme=dark] .colab-df-convert {\n",
              "      background-color: #3B4455;\n",
              "      fill: #D2E3FC;\n",
              "    }\n",
              "\n",
              "    [theme=dark] .colab-df-convert:hover {\n",
              "      background-color: #434B5C;\n",
              "      box-shadow: 0px 1px 3px 1px rgba(0, 0, 0, 0.15);\n",
              "      filter: drop-shadow(0px 1px 2px rgba(0, 0, 0, 0.3));\n",
              "      fill: #FFFFFF;\n",
              "    }\n",
              "  </style>\n",
              "\n",
              "      <script>\n",
              "        const buttonEl =\n",
              "          document.querySelector('#df-a08674da-a462-42ec-8461-3db5a9c87431 button.colab-df-convert');\n",
              "        buttonEl.style.display =\n",
              "          google.colab.kernel.accessAllowed ? 'block' : 'none';\n",
              "\n",
              "        async function convertToInteractive(key) {\n",
              "          const element = document.querySelector('#df-a08674da-a462-42ec-8461-3db5a9c87431');\n",
              "          const dataTable =\n",
              "            await google.colab.kernel.invokeFunction('convertToInteractive',\n",
              "                                                     [key], {});\n",
              "          if (!dataTable) return;\n",
              "\n",
              "          const docLinkHtml = 'Like what you see? Visit the ' +\n",
              "            '<a target=\"_blank\" href=https://colab.research.google.com/notebooks/data_table.ipynb>data table notebook</a>'\n",
              "            + ' to learn more about interactive tables.';\n",
              "          element.innerHTML = '';\n",
              "          dataTable['output_type'] = 'display_data';\n",
              "          await google.colab.output.renderOutput(dataTable, element);\n",
              "          const docLink = document.createElement('div');\n",
              "          docLink.innerHTML = docLinkHtml;\n",
              "          element.appendChild(docLink);\n",
              "        }\n",
              "      </script>\n",
              "    </div>\n",
              "  </div>\n",
              "  "
            ]
          },
          "metadata": {},
          "execution_count": 19
        }
      ]
    },
    {
      "cell_type": "code",
      "source": [
        "# Drop yang memiliki value '3' pada kolom Reached.on.Time_Y.N\n",
        "\n",
        "df.drop(df[df['Reached.on.Time_Y.N'] == 3].index, inplace = True)"
      ],
      "metadata": {
        "id": "MYSPeQ3w2hbv"
      },
      "execution_count": null,
      "outputs": []
    },
    {
      "cell_type": "code",
      "source": [
        "# Tampilan isi kolom setelah dilakukan inisialisasi ulang\n",
        "\n",
        "df['Reached.on.Time_Y.N'].unique()"
      ],
      "metadata": {
        "colab": {
          "base_uri": "https://localhost:8080/"
        },
        "id": "ZYMYLq8cGJyg",
        "outputId": "23bdf808-1966-405c-f7c0-f565396158a0"
      },
      "execution_count": null,
      "outputs": [
        {
          "output_type": "execute_result",
          "data": {
            "text/plain": [
              "array([1, 0])"
            ]
          },
          "metadata": {},
          "execution_count": 18
        }
      ]
    },
    {
      "cell_type": "code",
      "source": [
        "df.info()"
      ],
      "metadata": {
        "id": "1ElwnFmrnn2o",
        "outputId": "e3e659cc-8fe8-4fc4-e5a9-dff5a2509305",
        "colab": {
          "base_uri": "https://localhost:8080/"
        }
      },
      "execution_count": null,
      "outputs": [
        {
          "output_type": "stream",
          "name": "stdout",
          "text": [
            "<class 'pandas.core.frame.DataFrame'>\n",
            "Int64Index: 10982 entries, 0 to 10994\n",
            "Data columns (total 12 columns):\n",
            " #   Column               Non-Null Count  Dtype  \n",
            "---  ------               --------------  -----  \n",
            " 0   ID                   10982 non-null  int64  \n",
            " 1   Warehouse_block      10982 non-null  object \n",
            " 2   Mode_of_Shipment     10982 non-null  object \n",
            " 3   Customer_care_calls  10982 non-null  int64  \n",
            " 4   Customer_rating      10982 non-null  int64  \n",
            " 5   Cost_of_the_Product  10982 non-null  int64  \n",
            " 6   Prior_purchases      10982 non-null  int64  \n",
            " 7   Product_importance   10982 non-null  object \n",
            " 8   Gender               10982 non-null  object \n",
            " 9   Discount_offered     10982 non-null  float64\n",
            " 10  Weight_in_gms        10982 non-null  int64  \n",
            " 11  Reached.on.Time_Y.N  10982 non-null  int64  \n",
            "dtypes: float64(1), int64(7), object(4)\n",
            "memory usage: 1.1+ MB\n"
          ]
        }
      ]
    },
    {
      "cell_type": "markdown",
      "source": [
        "### Visualisasi Sesudah Cleaning"
      ],
      "metadata": {
        "id": "2_PuPPr9paGy"
      }
    },
    {
      "cell_type": "code",
      "source": [
        "cols = ['Warehouse_block', 'Mode_of_Shipment', 'Customer_care_calls', 'Customer_rating',\n",
        "        'Prior_purchases', 'Product_importance', 'Gender', 'Reached.on.Time_Y.N']\n",
        "\n",
        "plt.figure(figsize = (25, 10))\n",
        "plotnumber = 1\n",
        "\n",
        "for i in range(len(cols)):\n",
        "    if plotnumber <= 8:\n",
        "        ax = plt.subplot(2, 4, plotnumber)\n",
        "        sns.countplot(x = cols[i], data = df, ax = ax, palette='cividis')\n",
        "        plt.title(f'{cols[i]}', fontsize = 20)\n",
        "        \n",
        "    plotnumber += 1\n",
        "\n",
        "plt.tight_layout()\n",
        "plt.show()"
      ],
      "metadata": {
        "id": "vB0t4oZodrxX",
        "colab": {
          "base_uri": "https://localhost:8080/",
          "height": 579
        },
        "outputId": "8c4a8ebb-a1e8-403b-e6c7-f2c99359a644"
      },
      "execution_count": null,
      "outputs": [
        {
          "output_type": "display_data",
          "data": {
            "text/plain": [
              "<Figure size 1800x720 with 8 Axes>"
            ],
            "image/png": "[encoded data removed]"
          },
          "metadata": {
            "needs_background": "light"
          }
        }
      ]
    },
    {
      "cell_type": "code",
      "source": [
        "df.info()"
      ],
      "metadata": {
        "colab": {
          "base_uri": "https://localhost:8080/"
        },
        "id": "K694UOiZ1XeL",
        "outputId": "48b64fd6-7c67-4325-dd31-9ad49d0f002f"
      },
      "execution_count": null,
      "outputs": [
        {
          "output_type": "stream",
          "name": "stdout",
          "text": [
            "<class 'pandas.core.frame.DataFrame'>\n",
            "RangeIndex: 11005 entries, 0 to 11004\n",
            "Data columns (total 12 columns):\n",
            " #   Column               Non-Null Count  Dtype  \n",
            "---  ------               --------------  -----  \n",
            " 0   ID                   11005 non-null  int64  \n",
            " 1   Warehouse_block      11005 non-null  object \n",
            " 2   Mode_of_Shipment     11005 non-null  object \n",
            " 3   Customer_care_calls  10983 non-null  float64\n",
            " 4   Customer_rating      11005 non-null  int64  \n",
            " 5   Cost_of_the_Product  11005 non-null  int64  \n",
            " 6   Prior_purchases      11005 non-null  int64  \n",
            " 7   Product_importance   11005 non-null  object \n",
            " 8   Gender               11005 non-null  object \n",
            " 9   Discount_offered     10905 non-null  float64\n",
            " 10  Weight_in_gms        11005 non-null  int64  \n",
            " 11  Reached.on.Time_Y.N  11005 non-null  int64  \n",
            "dtypes: float64(2), int64(6), object(4)\n",
            "memory usage: 1.0+ MB\n"
          ]
        }
      ]
    },
    {
      "cell_type": "markdown",
      "source": [
        "### EDA"
      ],
      "metadata": {
        "id": "IqgGpFbKSJEI"
      }
    },
    {
      "cell_type": "markdown",
      "source": [
        "Tujuan : Mengukur apakah customer itu menggunakan jasa kita kembali berpatokan pada customer rating. Statement kalau costumer rating tinggi akan menggunakan jasa kita kembali, kalau rendah sebaliknya.\n",
        "\n",
        "•\tCustomer rating, prior purchases = untuk membuktikan bahwa customer rating tinggi cenderung akan menggunakan jasa perusahaan kembali.\n",
        "\n",
        "•\tCustomer rating, reached on time = untuk membuktikan bahwa ketepatan waktu pengiriman berpengaruh pada customer rating.\n",
        "\n",
        "\tReached on time, mode of shipment, cost of the product untuk mengukur apakah ketepatan waktu ditentukan dengan harga dan shipment yang digunakan.\n",
        "\tCost of the product, wight in gms, product important = mengukur apakah hargga produk ditentukan dari berat dan kepentingan produk. \n",
        "\n",
        "•\tCustomer rating, diskon, prior purchases = apakah dengan adanya diskon membuat customer memberikan rating tinggi pada perusahaan kita."
      ],
      "metadata": {
        "id": "dOQ1z95perPy"
      }
    },
    {
      "cell_type": "markdown",
      "source": [
        "- Customer rating, prior purchases\n",
        "- Customer rating, reached on time\n",
        "- Customer rating, diskon, prior purchases\n",
        "- Customer rating, customer care calls"
      ],
      "metadata": {
        "id": "hmzlFKyyoi1w"
      }
    },
    {
      "cell_type": "code",
      "source": [
        "#Customer rating, Customer care calls dengan Reached on time\n",
        "\n",
        "plt.figure(figsize = (12, 6))\n",
        "fig = df.groupby('Reached.on.Time_Y.N')['Customer_rating'].plot.hist(histtype= 'bar', alpha = 0.7, ec=\"black\")\n",
        "plt.legend(('Not On Time','On Time'), fontsize = 14)\n",
        "plt.xlabel('Customer_rating', fontsize = 18)\n",
        "plt.show()\n",
        "\n",
        "# plt.figure(figsize = (13, 5))\n",
        "# sns.countplot('Customer_rating', hue = 'Customer_care_calls', data = df, palette='cividis')\n",
        "# plt.show()"
      ],
      "metadata": {
        "colab": {
          "base_uri": "https://localhost:8080/",
          "height": 396
        },
        "id": "4yrntoNVSKCG",
        "outputId": "fe54c98d-f913-44dd-b0d0-c78a77bbed94"
      },
      "execution_count": null,
      "outputs": [
        {
          "output_type": "display_data",
          "data": {
            "text/plain": [
              "<Figure size 864x432 with 1 Axes>"
            ],
            "image/png": "[encoded data removed]"
          },
          "metadata": {
            "needs_background": "light"
          }
        }
      ]
    },
    {
      "cell_type": "code",
      "source": [
        "#Customer rating, \n",
        "plt.figure(figsize = (12, 10))\n",
        "sns.countplot(x = 'Customer_rating', hue = 'Customer_care_calls', data = df,\n",
        "            palette = 'cividis')\n",
        "plt.show()"
      ],
      "metadata": {
        "colab": {
          "base_uri": "https://localhost:8080/"
        },
        "id": "oHP9ookjBUbk",
        "outputId": "71a09bee-6da9-482f-8e46-8e06a3738db2"
      },
      "execution_count": null,
      "outputs": [
        {
          "output_type": "display_data",
          "data": {
            "text/plain": [
              "<Figure size 864x720 with 1 Axes>"
            ],
            "image/png": "[encoded data removed]"
          },
          "metadata": {
            "needs_background": "light"
          }
        }
      ]
    },
    {
      "cell_type": "code",
      "source": [
        "#Customer rating, reached on time\n",
        "plt.figure(figsize = (12, 10))\n",
        "sns.countplot(x = 'Customer_rating', hue = 'Reached.on.Time_Y.N', data = df,\n",
        "            palette = 'cividis')\n",
        "plt.show()"
      ],
      "metadata": {
        "colab": {
          "base_uri": "https://localhost:8080/",
          "height": 606
        },
        "id": "ccOuiRM1ueC9",
        "outputId": "ef3a1b8f-6488-4de8-8d16-998b446a18de"
      },
      "execution_count": null,
      "outputs": [
        {
          "output_type": "display_data",
          "data": {
            "text/plain": [
              "<Figure size 864x720 with 1 Axes>"
            ],
            "image/png": "[encoded data removed]"
          },
          "metadata": {
            "needs_background": "light"
          }
        }
      ]
    },
    {
      "cell_type": "code",
      "source": [
        "#Warehouse block, wight, mode of shipment. \n",
        "\n",
        "plt.figure(figsize = (12, 6))\n",
        "sns.barplot(x = 'Warehouse_block', y = 'Weight_in_gms', data = df, hue = 'Mode_of_Shipment',\n",
        "            palette = 'cividis')\n",
        "plt.show()"
      ],
      "metadata": {
        "colab": {
          "base_uri": "https://localhost:8080/",
          "height": 389
        },
        "id": "bz9eS-H8W-ME",
        "outputId": "baebfd86-cfde-408f-a3d2-f2ed057f4542"
      },
      "execution_count": null,
      "outputs": [
        {
          "output_type": "display_data",
          "data": {
            "text/plain": [
              "<Figure size 864x432 with 1 Axes>"
            ],
            "image/png": "[encoded data removed]"
          },
          "metadata": {
            "needs_background": "light"
          }
        }
      ]
    },
    {
      "cell_type": "code",
      "source": [
        "# Customer rating, prior purchases\n",
        "\n",
        "plt.figure(figsize = (12, 10))\n",
        "sns.barplot(x = 'Customer_rating', y = 'Prior_purchases', data = df,\n",
        "            palette = 'cividis')\n",
        "plt.show()"
      ],
      "metadata": {
        "colab": {
          "base_uri": "https://localhost:8080/",
          "height": 606
        },
        "id": "TgZUfWYYVAZq",
        "outputId": "8abb1267-94af-476e-ec9d-7d4e8aaa98e8"
      },
      "execution_count": null,
      "outputs": [
        {
          "output_type": "display_data",
          "data": {
            "text/plain": [
              "<Figure size 864x720 with 1 Axes>"
            ],
            "image/png": "[encoded data removed]"
          },
          "metadata": {
            "needs_background": "light"
          }
        }
      ]
    },
    {
      "cell_type": "code",
      "source": [
        "plt.figure(figsize = (12, 6))\n",
        "sns.barplot('Product_importance', y = 'Customer_care_calls', hue = 'Reached.on.Time_Y.N', data = df, palette = 'cividis')\n",
        "plt.show()"
      ],
      "metadata": {
        "colab": {
          "base_uri": "https://localhost:8080/",
          "height": 444
        },
        "id": "FMlBr1ebX06u",
        "outputId": "e079b31a-90f4-4ec7-ba1a-2e3870872b79"
      },
      "execution_count": null,
      "outputs": [
        {
          "output_type": "stream",
          "name": "stderr",
          "text": [
            "/usr/local/lib/python3.7/dist-packages/seaborn/_decorators.py:43: FutureWarning: Pass the following variable as a keyword arg: x. From version 0.12, the only valid positional argument will be `data`, and passing other arguments without an explicit keyword will result in an error or misinterpretation.\n",
            "  FutureWarning\n"
          ]
        },
        {
          "output_type": "display_data",
          "data": {
            "text/plain": [
              "<Figure size 864x432 with 1 Axes>"
            ],
            "image/png": "[encoded data removed]"
          },
          "metadata": {
            "needs_background": "light"
          }
        }
      ]
    },
    {
      "cell_type": "markdown",
      "source": [
        "- Customer care were more when product importance is less.\n",
        "- When importance of product is low or medium then more of the products weren't reached on time but when importance of product is high then products reached on time or not reached on time are almost equal."
      ],
      "metadata": {
        "id": "wzlb0pNOW8hg"
      }
    },
    {
      "cell_type": "code",
      "source": [
        "# "
      ],
      "metadata": {
        "id": "uOoX3tlnYF8n"
      },
      "execution_count": null,
      "outputs": []
    },
    {
      "cell_type": "markdown",
      "source": [
        "- "
      ],
      "metadata": {
        "id": "yDuo_1sta1l6"
      }
    }
  ]
}